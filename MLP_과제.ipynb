{
  "cells": [
    {
      "cell_type": "markdown",
      "metadata": {
        "id": "4sSY3DjNbPEa"
      },
      "source": [
        "### 필요 Package download"
      ]
    },
    {
      "cell_type": "code",
      "execution_count": null,
      "metadata": {
        "id": "PK3bVKuBcbZ6"
      },
      "outputs": [],
      "source": [
        "import torch\n",
        "import torchvision\n",
        "import torchvision.transforms as transforms"
      ]
    },
    {
      "cell_type": "code",
      "execution_count": null,
      "metadata": {
        "colab": {
          "base_uri": "https://localhost:8080/"
        },
        "id": "B7Jp6DQLn3sz",
        "outputId": "be985f65-e26c-421c-bc8e-0f9f77855465"
      },
      "outputs": [
        {
          "output_type": "stream",
          "name": "stdout",
          "text": [
            "cuda\n"
          ]
        }
      ],
      "source": [
        "device = torch.device('cuda' if torch.cuda.is_available() else 'cpu')\n",
        "\n",
        "# 현재 gpu를 사용중이면 cuda로 출력됩니다!:\n",
        "# gpu 변경은 런타임 -> 런타임 유형변경 -> 하드웨어 가속기: GPU로 할 수 있습니다.\n",
        "\n",
        "print(device)"
      ]
    },
    {
      "cell_type": "markdown",
      "metadata": {
        "id": "W9v_beLpA34L"
      },
      "source": [
        "## 데이터 부연설명\n",
        "* 저희가 사용할 dataset은 cifar-10이라는 이름을 가진, 컬러 이미지 데이터 60,000개가 들어있는\n",
        "dataset입니다. <br>\n",
        "* 해당 dataset은 총 10개의 class로 나누어져 있으며, 이 task는 각 이미지에 대한 class의 분류 accuracy를 높이는 것이 목적입니다."
      ]
    },
    {
      "cell_type": "markdown",
      "metadata": {
        "id": "Z8e8Z-lhhxZ7"
      },
      "source": [
        "### Data Normalize & DataLoader Settting"
      ]
    },
    {
      "cell_type": "code",
      "execution_count": null,
      "metadata": {
        "colab": {
          "base_uri": "https://localhost:8080/"
        },
        "id": "itmleb14cdyh",
        "outputId": "83e81f72-bc78-47ae-e078-a4072c3907e1"
      },
      "outputs": [
        {
          "output_type": "stream",
          "name": "stdout",
          "text": [
            "Downloading https://www.cs.toronto.edu/~kriz/cifar-10-python.tar.gz to ./data/cifar-10-python.tar.gz\n"
          ]
        },
        {
          "output_type": "stream",
          "name": "stderr",
          "text": [
            "100%|██████████| 170498071/170498071 [00:05<00:00, 29437950.74it/s]\n"
          ]
        },
        {
          "output_type": "stream",
          "name": "stdout",
          "text": [
            "Extracting ./data/cifar-10-python.tar.gz to ./data\n",
            "Files already downloaded and verified\n"
          ]
        }
      ],
      "source": [
        "transform = transforms.Compose(\n",
        "    [transforms.ToTensor(),\n",
        "     transforms.Normalize((0.5, 0.5, 0.5), (0.5, 0.5, 0.5))])\n",
        "\n",
        "trainset = torchvision.datasets.CIFAR10(root='./data', train=True,\n",
        "                                        download=True, transform=transform)\n",
        "trainloader = torch.utils.data.DataLoader(trainset, batch_size=4,\n",
        "                                          shuffle=True, num_workers=2)\n",
        "\n",
        "testset = torchvision.datasets.CIFAR10(root='./data', train=False,\n",
        "                                       download=True, transform=transform)\n",
        "testloader = torch.utils.data.DataLoader(testset, batch_size=4,\n",
        "                                         shuffle=False, num_workers=2)\n",
        "\n",
        "classes = ('plane', 'car', 'bird', 'cat',\n",
        "           'deer', 'dog', 'frog', 'horse', 'ship', 'truck')"
      ]
    },
    {
      "cell_type": "code",
      "execution_count": null,
      "metadata": {
        "colab": {
          "base_uri": "https://localhost:8080/",
          "height": 211
        },
        "id": "ViOCagdocmEt",
        "outputId": "d1418e0d-e3ed-4d24-bac7-af1b77588197"
      },
      "outputs": [
        {
          "output_type": "stream",
          "name": "stdout",
          "text": [
            "  cat   cat  frog  deer\n"
          ]
        },
        {
          "output_type": "display_data",
          "data": {
            "text/plain": [
              "<Figure size 640x480 with 1 Axes>"
            ],
            "image/png": "[encoded data removed]"
          },
          "metadata": {}
        }
      ],
      "source": [
        "import matplotlib.pyplot as plt\n",
        "import numpy as np\n",
        "\n",
        "# 이미지를 보여주기 위한 함수\n",
        "\n",
        "\n",
        "def imshow(img):\n",
        "    img = img / 2 + 0.5     # 표준화 해제\n",
        "    npimg = img.numpy()\n",
        "    plt.imshow(np.transpose(npimg, (1, 2, 0)))\n",
        "\n",
        "\n",
        "# 학습용 이미지를 무작위로 가져오기\n",
        "dataiter = iter(trainloader)\n",
        "images, labels = dataiter.__next__()\n",
        "\n",
        "# 이미지 보여주기\n",
        "imshow(torchvision.utils.make_grid(images))\n",
        "# 정답(label) 출력\n",
        "print(' '.join('%5s' % classes[labels[j]] for j in range(4)))\n",
        "plt.show()"
      ]
    },
    {
      "cell_type": "code",
      "execution_count": null,
      "metadata": {
        "id": "TQsfjGTWcm-i"
      },
      "outputs": [],
      "source": [
        "import torch.nn as nn\n",
        "import torch.nn.functional as F\n",
        "\n",
        "#해당 부분은 어느 정도 CNN의 개념이 포함되어 있습니다! 과제를 수행하는데 아무 관련도 없으니 그대로 두시면 됩니다!\n",
        "class Net(nn.Module):\n",
        "    def __init__(self):\n",
        "        super(Net, self).__init__()\n",
        "        self.conv1 = nn.Conv2d(3, 6, 5) # input channels, output channels, kernel size\n",
        "        self.pool = nn.MaxPool2d(2, 2)  # kernel size, stride, padding = 0 (default)\n",
        "        self.conv2 = nn.Conv2d(6, 16, 5)\n",
        "        #아래 부분의 코드를 수정 혹은 추가해주시면 됩니다! (layer를 추가할때는 self.fc'num'=nn.Linear(x,y)의 형태로 추가하시면 됩니다!)\n",
        "        self.fc1 = nn.Linear(400, 350) # input features, output features\n",
        "        self.fc2 = nn.Linear(350, 300)\n",
        "        self.fc3 = nn.Linear(300, 200)\n",
        "        self.fc4 = nn.Linear(200,100)\n",
        "        self.fc5 = nn.Linear(100,10)\n",
        "\n",
        "    def forward(self, x):\n",
        "        x = self.pool(F.relu(self.conv1(x)))\n",
        "        x = self.pool(F.relu(self.conv2(x)))\n",
        "        x = x.view(-1, 16 * 5 * 5)\n",
        "        #아래 부분에서 코드를 수정하거나 추가하여 forward 함수를 새롭게 지정해주시기 바랍니다!\n",
        "        #Hint: relu 함수는 출력층을 제외한 모든 층에서 활성화 함수로써 작동되어야 합니다.\n",
        "        x = F.relu(self.fc1(x))\n",
        "        x = F.relu(self.fc2(x))\n",
        "        x= F.relu(self.fc3(x))\n",
        "        x= F.relu(self.fc4(x))\n",
        "        x = self.fc5(x)\n",
        "        return x\n",
        "\n",
        "\n",
        "net = Net()"
      ]
    },
    {
      "cell_type": "code",
      "execution_count": null,
      "metadata": {
        "id": "HmJhscg1dIhs"
      },
      "outputs": [],
      "source": [
        "import torch.optim as optim\n",
        "\n",
        "#optimizer를 변경하거나 수치를 조정해보는 것도 accuracy를 높이는 데 도움을 줄 수 있습니다!\n",
        "criterion = nn.CrossEntropyLoss()\n",
        "optimizer = torch.optim.Adam(net.parameters(), lr=0.001, betas=(0.9, 0.999), eps=1e-08, weight_decay=0, amsgrad=False)"
      ]
    },
    {
      "cell_type": "code",
      "execution_count": null,
      "metadata": {
        "colab": {
          "base_uri": "https://localhost:8080/"
        },
        "id": "wpAa24bGdT3_",
        "outputId": "0d014539-341a-40c3-f737-cb20bb251a2b"
      },
      "outputs": [
        {
          "output_type": "stream",
          "name": "stdout",
          "text": [
            "[1,  2000] loss: 0.976\n",
            "[1,  4000] loss: 0.977\n",
            "[1,  6000] loss: 0.989\n",
            "[1,  8000] loss: 0.983\n",
            "[1, 10000] loss: 0.985\n",
            "[1, 12000] loss: 0.981\n",
            "[2,  2000] loss: 0.905\n",
            "[2,  4000] loss: 0.937\n",
            "[2,  6000] loss: 0.922\n",
            "[2,  8000] loss: 0.969\n",
            "[2, 10000] loss: 0.953\n",
            "[2, 12000] loss: 0.953\n",
            "[3,  2000] loss: 0.864\n",
            "[3,  4000] loss: 0.908\n",
            "[3,  6000] loss: 0.894\n",
            "[3,  8000] loss: 0.900\n",
            "[3, 10000] loss: 0.902\n",
            "[3, 12000] loss: 0.934\n",
            "[4,  2000] loss: 0.823\n",
            "[4,  4000] loss: 0.864\n",
            "[4,  6000] loss: 0.878\n",
            "[4,  8000] loss: 0.858\n",
            "[4, 10000] loss: 0.881\n",
            "[4, 12000] loss: 0.930\n",
            "[5,  2000] loss: 0.802\n",
            "[5,  4000] loss: 0.855\n",
            "[5,  6000] loss: 0.807\n",
            "[5,  8000] loss: 0.866\n",
            "[5, 10000] loss: 0.841\n",
            "[5, 12000] loss: 0.845\n",
            "[6,  2000] loss: 0.786\n",
            "[6,  4000] loss: 0.779\n",
            "[6,  6000] loss: 0.833\n",
            "[6,  8000] loss: 0.871\n",
            "[6, 10000] loss: 0.847\n",
            "[6, 12000] loss: 0.857\n",
            "[7,  2000] loss: 0.769\n",
            "[7,  4000] loss: 0.734\n",
            "[7,  6000] loss: 0.760\n",
            "[7,  8000] loss: 0.775\n",
            "[7, 10000] loss: 0.894\n",
            "[7, 12000] loss: 0.792\n",
            "[8,  2000] loss: 0.777\n",
            "[8,  4000] loss: 0.743\n",
            "[8,  6000] loss: 0.772\n",
            "[8,  8000] loss: 0.770\n",
            "[8, 10000] loss: 0.756\n",
            "[8, 12000] loss: 0.782\n",
            "[9,  2000] loss: 0.679\n",
            "[9,  4000] loss: 0.704\n",
            "[9,  6000] loss: 0.755\n",
            "[9,  8000] loss: 0.744\n",
            "[9, 10000] loss: 0.812\n",
            "[9, 12000] loss: 0.763\n",
            "[10,  2000] loss: 0.682\n",
            "[10,  4000] loss: 0.681\n",
            "[10,  6000] loss: 0.724\n",
            "[10,  8000] loss: 0.692\n",
            "[10, 10000] loss: 0.740\n",
            "[10, 12000] loss: 0.739\n",
            "[11,  2000] loss: 0.656\n",
            "[11,  4000] loss: 0.686\n",
            "[11,  6000] loss: 0.752\n",
            "[11,  8000] loss: 0.721\n",
            "[11, 10000] loss: 0.690\n",
            "[11, 12000] loss: 0.807\n",
            "[12,  2000] loss: 0.625\n",
            "[12,  4000] loss: 0.683\n",
            "[12,  6000] loss: 0.715\n",
            "[12,  8000] loss: 0.692\n",
            "[12, 10000] loss: 0.681\n",
            "[12, 12000] loss: 0.726\n",
            "[13,  2000] loss: 0.619\n",
            "[13,  4000] loss: 0.627\n",
            "[13,  6000] loss: 0.641\n",
            "[13,  8000] loss: 0.681\n",
            "[13, 10000] loss: 0.688\n",
            "[13, 12000] loss: 0.665\n",
            "[14,  2000] loss: 0.597\n",
            "[14,  4000] loss: 0.609\n",
            "[14,  6000] loss: 0.663\n",
            "[14,  8000] loss: 0.656\n",
            "[14, 10000] loss: 0.728\n",
            "[14, 12000] loss: 0.647\n",
            "[15,  2000] loss: 0.573\n",
            "[15,  4000] loss: 0.662\n",
            "[15,  6000] loss: 0.703\n",
            "[15,  8000] loss: 0.645\n",
            "[15, 10000] loss: 0.618\n",
            "[15, 12000] loss: 0.657\n",
            "[16,  2000] loss: 0.591\n",
            "[16,  4000] loss: 0.590\n",
            "[16,  6000] loss: 0.684\n",
            "[16,  8000] loss: 0.617\n",
            "[16, 10000] loss: 0.763\n",
            "[16, 12000] loss: 0.674\n",
            "[17,  2000] loss: 0.591\n",
            "[17,  4000] loss: 0.662\n",
            "[17,  6000] loss: 0.637\n",
            "[17,  8000] loss: 0.611\n",
            "[17, 10000] loss: 0.635\n",
            "[17, 12000] loss: 0.661\n",
            "[18,  2000] loss: 0.563\n",
            "[18,  4000] loss: 0.747\n",
            "[18,  6000] loss: 0.587\n",
            "[18,  8000] loss: 0.590\n",
            "[18, 10000] loss: 0.588\n",
            "[18, 12000] loss: 0.658\n",
            "[19,  2000] loss: 0.665\n",
            "[19,  4000] loss: 0.783\n",
            "[19,  6000] loss: 0.599\n",
            "[19,  8000] loss: 0.593\n",
            "[19, 10000] loss: 0.930\n",
            "[19, 12000] loss: 0.655\n",
            "[20,  2000] loss: 0.535\n",
            "[20,  4000] loss: 0.570\n",
            "[20,  6000] loss: 0.691\n",
            "[20,  8000] loss: 0.589\n",
            "[20, 10000] loss: 0.605\n",
            "[20, 12000] loss: 0.657\n",
            "[21,  2000] loss: 0.689\n",
            "[21,  4000] loss: 0.602\n",
            "[21,  6000] loss: 0.566\n",
            "[21,  8000] loss: 0.605\n",
            "[21, 10000] loss: 0.997\n",
            "[21, 12000] loss: 0.867\n",
            "[22,  2000] loss: 0.569\n",
            "[22,  4000] loss: 0.547\n",
            "[22,  6000] loss: 0.644\n",
            "[22,  8000] loss: 0.624\n",
            "[22, 10000] loss: 0.610\n",
            "[22, 12000] loss: 0.742\n",
            "[23,  2000] loss: 0.542\n",
            "[23,  4000] loss: 0.590\n",
            "[23,  6000] loss: 0.554\n",
            "[23,  8000] loss: 0.667\n",
            "[23, 10000] loss: 0.566\n",
            "[23, 12000] loss: 0.622\n",
            "[24,  2000] loss: 0.536\n",
            "[24,  4000] loss: 0.525\n",
            "[24,  6000] loss: 0.585\n",
            "[24,  8000] loss: 0.543\n",
            "[24, 10000] loss: 0.986\n",
            "[24, 12000] loss: 1.297\n",
            "[25,  2000] loss: 0.714\n",
            "[25,  4000] loss: 0.527\n",
            "[25,  6000] loss: 0.557\n",
            "[25,  8000] loss: 0.601\n",
            "[25, 10000] loss: 0.627\n",
            "[25, 12000] loss: 0.581\n",
            "[26,  2000] loss: 0.499\n",
            "[26,  4000] loss: 0.782\n",
            "[26,  6000] loss: 0.640\n",
            "[26,  8000] loss: 0.693\n",
            "[26, 10000] loss: 0.513\n",
            "[26, 12000] loss: 0.574\n",
            "[27,  2000] loss: 0.591\n",
            "[27,  4000] loss: 0.540\n",
            "[27,  6000] loss: 0.772\n",
            "[27,  8000] loss: 0.616\n",
            "[27, 10000] loss: 0.544\n",
            "[27, 12000] loss: 0.551\n",
            "[28,  2000] loss: 0.545\n",
            "[28,  4000] loss: 0.630\n",
            "[28,  6000] loss: 0.534\n",
            "[28,  8000] loss: 1.236\n",
            "[28, 10000] loss: 1.153\n",
            "[28, 12000] loss: 0.794\n",
            "[29,  2000] loss: 0.505\n",
            "[29,  4000] loss: 0.513\n",
            "[29,  6000] loss: 0.634\n",
            "[29,  8000] loss: 0.558\n",
            "[29, 10000] loss: 0.587\n",
            "[29, 12000] loss: 0.501\n",
            "[30,  2000] loss: 0.569\n",
            "[30,  4000] loss: 0.544\n",
            "[30,  6000] loss: 0.659\n",
            "[30,  8000] loss: 0.598\n",
            "[30, 10000] loss: 2.029\n",
            "[30, 12000] loss: 0.766\n",
            "Finished Training\n"
          ]
        }
      ],
      "source": [
        "for epoch in range(30):  # 데이터셋을 n차례 반복하여 학습합니다. 또한 range 속의 숫자도 바꾸어 학습률을 높이는 것도 도움이 될 겁니다!\n",
        "\n",
        "    running_loss = 0.0\n",
        "    for i, data in enumerate(trainloader, 0):\n",
        "        # 입력을 받은 후\n",
        "        inputs, labels = data\n",
        "        # 변화도(Gradient) 매개변수를 0으로 만든 후\n",
        "        optimizer.zero_grad()\n",
        "\n",
        "        # 순전파 + 역전파 + 최적화\n",
        "        outputs = net(inputs)\n",
        "        loss = criterion(outputs, labels)\n",
        "        loss.backward()\n",
        "        optimizer.step()\n",
        "\n",
        "        # 통계 출력\n",
        "\n",
        "        running_loss += loss.item()\n",
        "        # 2000개의 data를 학습할때마다 loss 출력\n",
        "        if i % 2000 == 1999:    # % 뒤에 들어갈 숫자의 크기를 조정하여 batch_size를 조정할 수 있습니다! 그리고 i % n == n-1:로 숫자를 맞춰주셔야 한다는 점 잊지 마세요!\n",
        "            print('[%d, %5d] loss: %.3f' %\n",
        "                  (epoch + 1, i + 1, running_loss / 2000)) # running_loss 우측의 숫자 역시 윗줄에서 바꾼 batch_size로 바꿔주어야 합니다!\n",
        "            running_loss = 0.0\n",
        "\n",
        "print('Finished Training')"
      ]
    },
    {
      "cell_type": "code",
      "execution_count": null,
      "metadata": {
        "id": "rNF7TthMfA37",
        "colab": {
          "base_uri": "https://localhost:8080/",
          "height": 211
        },
        "outputId": "5d74f8e3-d9a0-49de-a01d-2018a745aaa9"
      },
      "outputs": [
        {
          "output_type": "stream",
          "name": "stdout",
          "text": [
            "GroundTruth:    cat  ship  ship plane\n"
          ]
        },
        {
          "output_type": "display_data",
          "data": {
            "text/plain": [
              "<Figure size 640x480 with 1 Axes>"
            ],
            "image/png": "[encoded data removed]"
          },
          "metadata": {}
        }
      ],
      "source": [
        "dataiter = iter(testloader)\n",
        "images, labels = dataiter.__next__()\n",
        "\n",
        "# print images\n",
        "imshow(torchvision.utils.make_grid(images))\n",
        "print('GroundTruth: ', ' '.join('%5s' % classes[labels[j]] for j in range(4)))\n",
        "plt.show()"
      ]
    },
    {
      "cell_type": "code",
      "execution_count": null,
      "metadata": {
        "id": "NJqS91M8hYv1",
        "colab": {
          "base_uri": "https://localhost:8080/"
        },
        "outputId": "30fdd93a-9809-48e3-cbca-f94f3015763e"
      },
      "outputs": [
        {
          "output_type": "stream",
          "name": "stdout",
          "text": [
            "Predicted:   bird  ship  ship plane\n"
          ]
        }
      ],
      "source": [
        "outputs = net(images)\n",
        "_, predicted = torch.max(outputs, 1)\n",
        "\n",
        "print('Predicted: ', ' '.join('%5s' % classes[predicted[j]]\n",
        "                              for j in range(4)))"
      ]
    },
    {
      "cell_type": "code",
      "execution_count": null,
      "metadata": {
        "id": "wKItpc_2heNT",
        "colab": {
          "base_uri": "https://localhost:8080/"
        },
        "outputId": "e0311ca0-604b-4ba7-a976-473f49b5247f"
      },
      "outputs": [
        {
          "output_type": "stream",
          "name": "stdout",
          "text": [
            "Accuracy of the network on the 10000 test images: 60 %\n"
          ]
        }
      ],
      "source": [
        "#과제2에서 요구하는 accuracy의 결과값이 나오는 code입니다! 캡처를 하실 때는 해당 코드의 결과를 캡처하시고, 이를 제출하여 주시기 바랍니다~\n",
        "correct = 0\n",
        "total = 0\n",
        "with torch.no_grad():\n",
        "    for data in testloader:\n",
        "        images, labels = data\n",
        "        outputs = net(images)\n",
        "        _, predicted = torch.max(outputs.data, 1)\n",
        "        total += labels.size(0)\n",
        "        correct += (predicted == labels).sum().item()\n",
        "\n",
        "print('Accuracy of the network on the 10000 test images: %d %%' % (\n",
        "    100 * correct / total))"
      ]
    },
    {
      "cell_type": "code",
      "execution_count": null,
      "metadata": {
        "id": "2VD2MZ91hkk1",
        "colab": {
          "base_uri": "https://localhost:8080/"
        },
        "outputId": "ce5945ad-2b2c-4a32-f1bd-12d3a09b8b38"
      },
      "outputs": [
        {
          "output_type": "stream",
          "name": "stdout",
          "text": [
            "Accuracy of plane : 64 %\n",
            "Accuracy of   car : 67 %\n",
            "Accuracy of  bird : 55 %\n",
            "Accuracy of   cat : 50 %\n",
            "Accuracy of  deer : 59 %\n",
            "Accuracy of   dog : 42 %\n",
            "Accuracy of  frog : 65 %\n",
            "Accuracy of horse : 61 %\n",
            "Accuracy of  ship : 75 %\n",
            "Accuracy of truck : 63 %\n"
          ]
        }
      ],
      "source": [
        "class_correct = list(0. for i in range(10))\n",
        "class_total = list(0. for i in range(10))\n",
        "with torch.no_grad():\n",
        "    for data in testloader:\n",
        "        images, labels = data\n",
        "        outputs = net(images)\n",
        "        _, predicted = torch.max(outputs, 1)\n",
        "        c = (predicted == labels).squeeze()\n",
        "        for i in range(4):\n",
        "            label = labels[i]\n",
        "            class_correct[label] += c[i].item()\n",
        "            class_total[label] += 1\n",
        "\n",
        "\n",
        "for i in range(10):\n",
        "    print('Accuracy of %5s : %2d %%' % (\n",
        "        classes[i], 100 * class_correct[i] / class_total[i]))"
      ]
    },
    {
      "cell_type": "markdown",
      "metadata": {
        "id": "FXdtUROHSU4_"
      },
      "source": [
        "출처: https://m.blog.naver.com/ckdgus1433/221406102936의 튜토리얼을 참고하였습니다!"
      ]
    },
    {
      "cell_type": "markdown",
      "metadata": {
        "id": "SXfXZ7HorjRI"
      },
      "source": [
        "#과제"
      ]
    },
    {
      "cell_type": "markdown",
      "metadata": {
        "id": "PxXa62w5rmyq"
      },
      "source": [
        "##1. 실습 파일의 overfitting model의 optimizer, epoch, learning rate 등을 변경하여 실행한 결과와, underfitting의 layer를 2개 이상 추가하여 실행한 결과를 각각 캡처하여 overfit, underfit이라는 이름으로 깃허브에 제출하기.  <br> <br>\n",
        "##2. 과제 파일을 수정하여 Test image에 대한 accuracy를 55% 이상으로 높이고, 모델의 결과에 대한 캡처본과 파일을 모두 깃허브에 제출하기. <br>\n",
        "Hint: 파일 중간중간에 설명이 있는 부분을 참고하시면 아마 될 겁니다!<br>\n",
        "(layer 추가, optimizer 변경, learning rate 조정 등...) <br>\n",
        "##3. MLP model과 기존 ML model의 차이점을 최소 2가지 측면에서 서술하기. <br>\n",
        "답1: 기존 ML model과 MLP의 가장 큰 차이점은 구조이다. MLP는 기존 머신 러닝 모델들과는 다르게 퍼셉트론으로 이루어진 레이어가 여러개 붙어 있는데,이 때 출력층, 입력층과 최소 하나 이상의 은닉층으로 구성되어 있으며 인접한 두 층의 뉴런 간에는 fully connected 되어 있다. 반면 기존 ML 모델의 경우 MLP보다 훨씬 단순한 구조로, 선형/비선형 모델이며 보통 입력과 가중치,그리고 출력을 통한 모델 학습이 이루어진다.\n",
        "답2: 기존 ML model은 데이터로부터 미리 추출한 특징을 모델에 입력하여 학습을 진행하는 반면, MLP는 입력된 데이터로부터 의미있는 특징을 직접 학습, 추출한다. 이때 답1에서 언급되었던 은닉층 뉴런이 입력된 데이터와 가중치를 조합하고 활성화함수를 통과시키는 방법으로 특징이 추출된다."
      ]
    }
  ],
  "metadata": {
    "colab": {
      "provenance": [],
      "gpuType": "T4"
    },
    "kernelspec": {
      "display_name": "Python 3",
      "name": "python3"
    },
    "language_info": {
      "name": "python"
    },
    "accelerator": "GPU"
  },
  "nbformat": 4,
  "nbformat_minor": 0
}