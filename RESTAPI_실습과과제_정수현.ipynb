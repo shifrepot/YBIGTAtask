{
  "nbformat": 4,
  "nbformat_minor": 0,
  "metadata": {
    "colab": {
      "provenance": []
    },
    "kernelspec": {
      "name": "python3",
      "display_name": "Python 3"
    },
    "language_info": {
      "name": "python"
    }
  },
  "cells": [
    {
      "cell_type": "markdown",
      "source": [
        "# REST API 실습\n",
        "\n",
        "22th DE 김원\n",
        "\n",
        "\n"
      ],
      "metadata": {
        "id": "9q5smz2WeG5L"
      }
    },
    {
      "cell_type": "markdown",
      "source": [
        "## Python에서"
      ],
      "metadata": {
        "id": "ppGGd1RgnFdk"
      }
    },
    {
      "cell_type": "code",
      "source": [
        "import requests\n",
        "# GET 요청 보내기\n",
        "response = requests.get('https://reqres.in/api/users?page=2')\n",
        "\n",
        "# 응답 확인\n",
        "if response.status_code == 200:\n",
        "    res = response.json()\n",
        "    print(res)\n",
        "else:\n",
        "    print('요청에 실패했습니다. 상태 코드:', res.status_code)"
      ],
      "metadata": {
        "id": "JBC3OzB1pQx9",
        "colab": {
          "base_uri": "https://localhost:8080/"
        },
        "outputId": "241147a4-5c52-4c66-b0e4-59d1758c401a"
      },
      "execution_count": null,
      "outputs": [
        {
          "output_type": "stream",
          "name": "stdout",
          "text": [
            "{'page': 2, 'per_page': 6, 'total': 12, 'total_pages': 2, 'data': [{'id': 7, 'email': 'michael.lawson@reqres.in', 'first_name': 'Michael', 'last_name': 'Lawson', 'avatar': 'https://reqres.in/img/faces/7-image.jpg'}, {'id': 8, 'email': 'lindsay.ferguson@reqres.in', 'first_name': 'Lindsay', 'last_name': 'Ferguson', 'avatar': 'https://reqres.in/img/faces/8-image.jpg'}, {'id': 9, 'email': 'tobias.funke@reqres.in', 'first_name': 'Tobias', 'last_name': 'Funke', 'avatar': 'https://reqres.in/img/faces/9-image.jpg'}, {'id': 10, 'email': 'byron.fields@reqres.in', 'first_name': 'Byron', 'last_name': 'Fields', 'avatar': 'https://reqres.in/img/faces/10-image.jpg'}, {'id': 11, 'email': 'george.edwards@reqres.in', 'first_name': 'George', 'last_name': 'Edwards', 'avatar': 'https://reqres.in/img/faces/11-image.jpg'}, {'id': 12, 'email': 'rachel.howell@reqres.in', 'first_name': 'Rachel', 'last_name': 'Howell', 'avatar': 'https://reqres.in/img/faces/12-image.jpg'}], 'support': {'url': 'https://reqres.in/#support-heading', 'text': 'To keep ReqRes free, contributions towards server costs are appreciated!'}}\n"
          ]
        }
      ]
    },
    {
      "cell_type": "code",
      "source": [
        "res"
      ],
      "metadata": {
        "id": "pSflBFoXpUx1",
        "colab": {
          "base_uri": "https://localhost:8080/"
        },
        "outputId": "3835f41e-a90b-44fa-c8bb-8cabea165b0d"
      },
      "execution_count": null,
      "outputs": [
        {
          "output_type": "execute_result",
          "data": {
            "text/plain": [
              "{'page': 2,\n",
              " 'per_page': 6,\n",
              " 'total': 12,\n",
              " 'total_pages': 2,\n",
              " 'data': [{'id': 7,\n",
              "   'email': 'michael.lawson@reqres.in',\n",
              "   'first_name': 'Michael',\n",
              "   'last_name': 'Lawson',\n",
              "   'avatar': 'https://reqres.in/img/faces/7-image.jpg'},\n",
              "  {'id': 8,\n",
              "   'email': 'lindsay.ferguson@reqres.in',\n",
              "   'first_name': 'Lindsay',\n",
              "   'last_name': 'Ferguson',\n",
              "   'avatar': 'https://reqres.in/img/faces/8-image.jpg'},\n",
              "  {'id': 9,\n",
              "   'email': 'tobias.funke@reqres.in',\n",
              "   'first_name': 'Tobias',\n",
              "   'last_name': 'Funke',\n",
              "   'avatar': 'https://reqres.in/img/faces/9-image.jpg'},\n",
              "  {'id': 10,\n",
              "   'email': 'byron.fields@reqres.in',\n",
              "   'first_name': 'Byron',\n",
              "   'last_name': 'Fields',\n",
              "   'avatar': 'https://reqres.in/img/faces/10-image.jpg'},\n",
              "  {'id': 11,\n",
              "   'email': 'george.edwards@reqres.in',\n",
              "   'first_name': 'George',\n",
              "   'last_name': 'Edwards',\n",
              "   'avatar': 'https://reqres.in/img/faces/11-image.jpg'},\n",
              "  {'id': 12,\n",
              "   'email': 'rachel.howell@reqres.in',\n",
              "   'first_name': 'Rachel',\n",
              "   'last_name': 'Howell',\n",
              "   'avatar': 'https://reqres.in/img/faces/12-image.jpg'}],\n",
              " 'support': {'url': 'https://reqres.in/#support-heading',\n",
              "  'text': 'To keep ReqRes free, contributions towards server costs are appreciated!'}}"
            ]
          },
          "metadata": {},
          "execution_count": 3
        }
      ]
    },
    {
      "cell_type": "code",
      "source": [
        "res['data'][0]"
      ],
      "metadata": {
        "id": "OwSA-N7mpXl7",
        "colab": {
          "base_uri": "https://localhost:8080/"
        },
        "outputId": "42cd424c-29c4-4328-a07e-78ed368bfe7c"
      },
      "execution_count": null,
      "outputs": [
        {
          "output_type": "execute_result",
          "data": {
            "text/plain": [
              "{'id': 7,\n",
              " 'email': 'michael.lawson@reqres.in',\n",
              " 'first_name': 'Michael',\n",
              " 'last_name': 'Lawson',\n",
              " 'avatar': 'https://reqres.in/img/faces/7-image.jpg'}"
            ]
          },
          "metadata": {},
          "execution_count": 4
        }
      ]
    },
    {
      "cell_type": "code",
      "source": [
        "import pandas as pd\n",
        "df = pd.DataFrame(res['data'])\n",
        "df"
      ],
      "metadata": {
        "id": "ESoFO_gWpZHb",
        "colab": {
          "base_uri": "https://localhost:8080/",
          "height": 237
        },
        "outputId": "75a9371d-caff-4781-cb9a-c1aff0d3cb15"
      },
      "execution_count": null,
      "outputs": [
        {
          "output_type": "execute_result",
          "data": {
            "text/plain": [
              "   id                       email first_name last_name  \\\n",
              "0   7    michael.lawson@reqres.in    Michael    Lawson   \n",
              "1   8  lindsay.ferguson@reqres.in    Lindsay  Ferguson   \n",
              "2   9      tobias.funke@reqres.in     Tobias     Funke   \n",
              "3  10      byron.fields@reqres.in      Byron    Fields   \n",
              "4  11    george.edwards@reqres.in     George   Edwards   \n",
              "5  12     rachel.howell@reqres.in     Rachel    Howell   \n",
              "\n",
              "                                     avatar  \n",
              "0   https://reqres.in/img/faces/7-image.jpg  \n",
              "1   https://reqres.in/img/faces/8-image.jpg  \n",
              "2   https://reqres.in/img/faces/9-image.jpg  \n",
              "3  https://reqres.in/img/faces/10-image.jpg  \n",
              "4  https://reqres.in/img/faces/11-image.jpg  \n",
              "5  https://reqres.in/img/faces/12-image.jpg  "
            ],
            "text/html": [
              "\n",
              "\n",
              "  <div id=\"df-bfc72dc0-2d49-438b-9bcc-f36c5e3defe0\">\n",
              "    <div class=\"colab-df-container\">\n",
              "      <div>\n",
              "<style scoped>\n",
              "    .dataframe tbody tr th:only-of-type {\n",
              "        vertical-align: middle;\n",
              "    }\n",
              "\n",
              "    .dataframe tbody tr th {\n",
              "        vertical-align: top;\n",
              "    }\n",
              "\n",
              "    .dataframe thead th {\n",
              "        text-align: right;\n",
              "    }\n",
              "</style>\n",
              "<table border=\"1\" class=\"dataframe\">\n",
              "  <thead>\n",
              "    <tr style=\"text-align: right;\">\n",
              "      <th></th>\n",
              "      <th>id</th>\n",
              "      <th>email</th>\n",
              "      <th>first_name</th>\n",
              "      <th>last_name</th>\n",
              "      <th>avatar</th>\n",
              "    </tr>\n",
              "  </thead>\n",
              "  <tbody>\n",
              "    <tr>\n",
              "      <th>0</th>\n",
              "      <td>7</td>\n",
              "      <td>michael.lawson@reqres.in</td>\n",
              "      <td>Michael</td>\n",
              "      <td>Lawson</td>\n",
              "      <td>https://reqres.in/img/faces/7-image.jpg</td>\n",
              "    </tr>\n",
              "    <tr>\n",
              "      <th>1</th>\n",
              "      <td>8</td>\n",
              "      <td>lindsay.ferguson@reqres.in</td>\n",
              "      <td>Lindsay</td>\n",
              "      <td>Ferguson</td>\n",
              "      <td>https://reqres.in/img/faces/8-image.jpg</td>\n",
              "    </tr>\n",
              "    <tr>\n",
              "      <th>2</th>\n",
              "      <td>9</td>\n",
              "      <td>tobias.funke@reqres.in</td>\n",
              "      <td>Tobias</td>\n",
              "      <td>Funke</td>\n",
              "      <td>https://reqres.in/img/faces/9-image.jpg</td>\n",
              "    </tr>\n",
              "    <tr>\n",
              "      <th>3</th>\n",
              "      <td>10</td>\n",
              "      <td>byron.fields@reqres.in</td>\n",
              "      <td>Byron</td>\n",
              "      <td>Fields</td>\n",
              "      <td>https://reqres.in/img/faces/10-image.jpg</td>\n",
              "    </tr>\n",
              "    <tr>\n",
              "      <th>4</th>\n",
              "      <td>11</td>\n",
              "      <td>george.edwards@reqres.in</td>\n",
              "      <td>George</td>\n",
              "      <td>Edwards</td>\n",
              "      <td>https://reqres.in/img/faces/11-image.jpg</td>\n",
              "    </tr>\n",
              "    <tr>\n",
              "      <th>5</th>\n",
              "      <td>12</td>\n",
              "      <td>rachel.howell@reqres.in</td>\n",
              "      <td>Rachel</td>\n",
              "      <td>Howell</td>\n",
              "      <td>https://reqres.in/img/faces/12-image.jpg</td>\n",
              "    </tr>\n",
              "  </tbody>\n",
              "</table>\n",
              "</div>\n",
              "      <button class=\"colab-df-convert\" onclick=\"convertToInteractive('df-bfc72dc0-2d49-438b-9bcc-f36c5e3defe0')\"\n",
              "              title=\"Convert this dataframe to an interactive table.\"\n",
              "              style=\"display:none;\">\n",
              "\n",
              "  <svg xmlns=\"http://www.w3.org/2000/svg\" height=\"24px\"viewBox=\"0 0 24 24\"\n",
              "       width=\"24px\">\n",
              "    <path d=\"M0 0h24v24H0V0z\" fill=\"none\"/>\n",
              "    <path d=\"M18.56 5.44l.94 2.06.94-2.06 2.06-.94-2.06-.94-.94-2.06-.94 2.06-2.06.94zm-11 1L8.5 8.5l.94-2.06 2.06-.94-2.06-.94L8.5 2.5l-.94 2.06-2.06.94zm10 10l.94 2.06.94-2.06 2.06-.94-2.06-.94-.94-2.06-.94 2.06-2.06.94z\"/><path d=\"M17.41 7.96l-1.37-1.37c-.4-.4-.92-.59-1.43-.59-.52 0-1.04.2-1.43.59L10.3 9.45l-7.72 7.72c-.78.78-.78 2.05 0 2.83L4 21.41c.39.39.9.59 1.41.59.51 0 1.02-.2 1.41-.59l7.78-7.78 2.81-2.81c.8-.78.8-2.07 0-2.86zM5.41 20L4 18.59l7.72-7.72 1.47 1.35L5.41 20z\"/>\n",
              "  </svg>\n",
              "      </button>\n",
              "\n",
              "\n",
              "\n",
              "    <div id=\"df-c32cf66e-f11f-45aa-8c10-c5cca109bb83\">\n",
              "      <button class=\"colab-df-quickchart\" onclick=\"quickchart('df-c32cf66e-f11f-45aa-8c10-c5cca109bb83')\"\n",
              "              title=\"Suggest charts.\"\n",
              "              style=\"display:none;\">\n",
              "\n",
              "<svg xmlns=\"http://www.w3.org/2000/svg\" height=\"24px\"viewBox=\"0 0 24 24\"\n",
              "     width=\"24px\">\n",
              "    <g>\n",
              "        <path d=\"M19 3H5c-1.1 0-2 .9-2 2v14c0 1.1.9 2 2 2h14c1.1 0 2-.9 2-2V5c0-1.1-.9-2-2-2zM9 17H7v-7h2v7zm4 0h-2V7h2v10zm4 0h-2v-4h2v4z\"/>\n",
              "    </g>\n",
              "</svg>\n",
              "      </button>\n",
              "    </div>\n",
              "\n",
              "<style>\n",
              "  .colab-df-quickchart {\n",
              "    background-color: #E8F0FE;\n",
              "    border: none;\n",
              "    border-radius: 50%;\n",
              "    cursor: pointer;\n",
              "    display: none;\n",
              "    fill: #1967D2;\n",
              "    height: 32px;\n",
              "    padding: 0 0 0 0;\n",
              "    width: 32px;\n",
              "  }\n",
              "\n",
              "  .colab-df-quickchart:hover {\n",
              "    background-color: #E2EBFA;\n",
              "    box-shadow: 0px 1px 2px rgba(60, 64, 67, 0.3), 0px 1px 3px 1px rgba(60, 64, 67, 0.15);\n",
              "    fill: #174EA6;\n",
              "  }\n",
              "\n",
              "  [theme=dark] .colab-df-quickchart {\n",
              "    background-color: #3B4455;\n",
              "    fill: #D2E3FC;\n",
              "  }\n",
              "\n",
              "  [theme=dark] .colab-df-quickchart:hover {\n",
              "    background-color: #434B5C;\n",
              "    box-shadow: 0px 1px 3px 1px rgba(0, 0, 0, 0.15);\n",
              "    filter: drop-shadow(0px 1px 2px rgba(0, 0, 0, 0.3));\n",
              "    fill: #FFFFFF;\n",
              "  }\n",
              "</style>\n",
              "\n",
              "    <script>\n",
              "      async function quickchart(key) {\n",
              "        const containerElement = document.querySelector('#' + key);\n",
              "        const charts = await google.colab.kernel.invokeFunction(\n",
              "            'suggestCharts', [key], {});\n",
              "      }\n",
              "    </script>\n",
              "\n",
              "      <script>\n",
              "\n",
              "function displayQuickchartButton(domScope) {\n",
              "  let quickchartButtonEl =\n",
              "    domScope.querySelector('#df-c32cf66e-f11f-45aa-8c10-c5cca109bb83 button.colab-df-quickchart');\n",
              "  quickchartButtonEl.style.display =\n",
              "    google.colab.kernel.accessAllowed ? 'block' : 'none';\n",
              "}\n",
              "\n",
              "        displayQuickchartButton(document);\n",
              "      </script>\n",
              "      <style>\n",
              "    .colab-df-container {\n",
              "      display:flex;\n",
              "      flex-wrap:wrap;\n",
              "      gap: 12px;\n",
              "    }\n",
              "\n",
              "    .colab-df-convert {\n",
              "      background-color: #E8F0FE;\n",
              "      border: none;\n",
              "      border-radius: 50%;\n",
              "      cursor: pointer;\n",
              "      display: none;\n",
              "      fill: #1967D2;\n",
              "      height: 32px;\n",
              "      padding: 0 0 0 0;\n",
              "      width: 32px;\n",
              "    }\n",
              "\n",
              "    .colab-df-convert:hover {\n",
              "      background-color: #E2EBFA;\n",
              "      box-shadow: 0px 1px 2px rgba(60, 64, 67, 0.3), 0px 1px 3px 1px rgba(60, 64, 67, 0.15);\n",
              "      fill: #174EA6;\n",
              "    }\n",
              "\n",
              "    [theme=dark] .colab-df-convert {\n",
              "      background-color: #3B4455;\n",
              "      fill: #D2E3FC;\n",
              "    }\n",
              "\n",
              "    [theme=dark] .colab-df-convert:hover {\n",
              "      background-color: #434B5C;\n",
              "      box-shadow: 0px 1px 3px 1px rgba(0, 0, 0, 0.15);\n",
              "      filter: drop-shadow(0px 1px 2px rgba(0, 0, 0, 0.3));\n",
              "      fill: #FFFFFF;\n",
              "    }\n",
              "  </style>\n",
              "\n",
              "      <script>\n",
              "        const buttonEl =\n",
              "          document.querySelector('#df-bfc72dc0-2d49-438b-9bcc-f36c5e3defe0 button.colab-df-convert');\n",
              "        buttonEl.style.display =\n",
              "          google.colab.kernel.accessAllowed ? 'block' : 'none';\n",
              "\n",
              "        async function convertToInteractive(key) {\n",
              "          const element = document.querySelector('#df-bfc72dc0-2d49-438b-9bcc-f36c5e3defe0');\n",
              "          const dataTable =\n",
              "            await google.colab.kernel.invokeFunction('convertToInteractive',\n",
              "                                                     [key], {});\n",
              "          if (!dataTable) return;\n",
              "\n",
              "          const docLinkHtml = 'Like what you see? Visit the ' +\n",
              "            '<a target=\"_blank\" href=https://colab.research.google.com/notebooks/data_table.ipynb>data table notebook</a>'\n",
              "            + ' to learn more about interactive tables.';\n",
              "          element.innerHTML = '';\n",
              "          dataTable['output_type'] = 'display_data';\n",
              "          await google.colab.output.renderOutput(dataTable, element);\n",
              "          const docLink = document.createElement('div');\n",
              "          docLink.innerHTML = docLinkHtml;\n",
              "          element.appendChild(docLink);\n",
              "        }\n",
              "      </script>\n",
              "    </div>\n",
              "  </div>\n"
            ]
          },
          "metadata": {},
          "execution_count": 5
        }
      ]
    },
    {
      "cell_type": "markdown",
      "source": [
        "## terminal에서\n"
      ],
      "metadata": {
        "id": "aW2dzmBunClV"
      }
    },
    {
      "cell_type": "markdown",
      "source": [
        "가장 간단한 요청입니다 curl + 요청을 보낼 주소 위는 코랩이기 때문에 터미널명령어를 !앞에 붙여 실행합니다 터미널에서는 !안붙여도 괜찮아요!!"
      ],
      "metadata": {
        "id": "GKlVWBzynjLN"
      }
    },
    {
      "cell_type": "code",
      "source": [
        "!curl https://reqres.in/api/users?page=2"
      ],
      "metadata": {
        "colab": {
          "base_uri": "https://localhost:8080/"
        },
        "id": "vnHgSRVxnFLB",
        "outputId": "52873eb4-163d-4817-bba5-cb582afa09f8"
      },
      "execution_count": null,
      "outputs": [
        {
          "output_type": "stream",
          "name": "stdout",
          "text": [
            "{\"page\":2,\"per_page\":6,\"total\":12,\"total_pages\":2,\"data\":[{\"id\":7,\"email\":\"michael.lawson@reqres.in\",\"first_name\":\"Michael\",\"last_name\":\"Lawson\",\"avatar\":\"https://reqres.in/img/faces/7-image.jpg\"},{\"id\":8,\"email\":\"lindsay.ferguson@reqres.in\",\"first_name\":\"Lindsay\",\"last_name\":\"Ferguson\",\"avatar\":\"https://reqres.in/img/faces/8-image.jpg\"},{\"id\":9,\"email\":\"tobias.funke@reqres.in\",\"first_name\":\"Tobias\",\"last_name\":\"Funke\",\"avatar\":\"https://reqres.in/img/faces/9-image.jpg\"},{\"id\":10,\"email\":\"byron.fields@reqres.in\",\"first_name\":\"Byron\",\"last_name\":\"Fields\",\"avatar\":\"https://reqres.in/img/faces/10-image.jpg\"},{\"id\":11,\"email\":\"george.edwards@reqres.in\",\"first_name\":\"George\",\"last_name\":\"Edwards\",\"avatar\":\"https://reqres.in/img/faces/11-image.jpg\"},{\"id\":12,\"email\":\"rachel.howell@reqres.in\",\"first_name\":\"Rachel\",\"last_name\":\"Howell\",\"avatar\":\"https://reqres.in/img/faces/12-image.jpg\"}],\"support\":{\"url\":\"https://reqres.in/#support-heading\",\"text\":\"To keep ReqRes free, contributions towards server costs are appreciated!\"}}"
          ]
        }
      ]
    },
    {
      "cell_type": "markdown",
      "source": [
        "Curl에 여러가지 옵션을 추가할 수 있습니다\n",
        "\n",
        "-X : HTTP 메서드 지정\n",
        "<br>\n",
        "\n",
        "GET: 리소스를 가져오기 위한 요청입니다. 기본적으로 curl이 사용하는 메서드입니다.<br>\n",
        "POST: 리소스를 생성하기 위한 요청입니다. 데이터를 서버로 전송할 때 사용됩니다.<br>\n",
        "PUT: 리소스를 수정하기 위한 요청입니다. 전체 리소스를 업데이트합니다.<br>\n",
        "PATCH: 리소스를 일부 수정하기 위한 요청입니다. 부분적인 업데이트를 수행할 때 사용됩니다.<br>\n",
        "DELETE: 리소스를 삭제하기 위한 요청입니다.\n",
        "\n",
        "<br>\n",
        "\n",
        "-H : header 설정 header란 무엇일까? - 범위를 벗어나므로 신원을 확인하거나, 추가적인 정보가 담겨있는 부분: <br> => 메타데이터가 담겨있는 부분입니다!  <br>\n",
        "\n",
        "-d : data의 약자로 데이터를 넘겨줍니다\n",
        "\n",
        "\n",
        "<br>\n",
        "\n",
        "아래의 예시의 경우, 게시판 홈페이지에 사람을 추가하는 예시! <br>\n",
        "\n",
        "리소스를 생성하기 때문에 POST method로, 추가해야할 데이터를 -d 인자로 넘겨줍니다\n",
        "\n",
        "\n"
      ],
      "metadata": {
        "id": "r1gohVg-no6C"
      }
    },
    {
      "cell_type": "code",
      "source": [
        "!curl -X POST -H \"Content-Type: application/json\" -d '{\"name\": \"John\", \"age\":30}' https://reqres.in/api/users"
      ],
      "metadata": {
        "colab": {
          "base_uri": "https://localhost:8080/"
        },
        "id": "UHaO4FFAniG7",
        "outputId": "cb9fd9a6-9f0d-42e4-f775-cfb4843cbf41"
      },
      "execution_count": null,
      "outputs": [
        {
          "output_type": "stream",
          "name": "stdout",
          "text": [
            "{\"name\":\"John\",\"age\":30,\"id\":\"132\",\"createdAt\":\"2023-07-04T11:22:58.857Z\"}"
          ]
        }
      ]
    },
    {
      "cell_type": "markdown",
      "source": [
        "위 코드를 실행하면, 정상응답이 나오는 경우 reqres.in 페이지에 /api/users에 새로운 유저를 등록 요청하는 request입니다!"
      ],
      "metadata": {
        "id": "zXkVMsUXqFek"
      }
    },
    {
      "cell_type": "markdown",
      "source": [
        "### 위를 파이썬 버전으로"
      ],
      "metadata": {
        "id": "AKuJMrDWnM5B"
      }
    },
    {
      "cell_type": "code",
      "source": [
        "import requests\n",
        "import json\n",
        "\n",
        "url = 'https://reqres.in/api/users'\n",
        "headers = {'Content-Type': 'application/json'}\n",
        "data = {'name': 'John', 'age': 30}\n",
        "\n",
        "\n",
        "# post method로 요청\n",
        "\n",
        "response = requests.post(url, headers=headers, data=json.dumps(data))\n",
        "\n",
        "if response.status_code == 201: # 상태코드가 201이라면(201 : 요청 정상처리 상태코드 )\n",
        "    result = response.json()\n",
        "    print('사용자 생성 완료:', result)\n",
        "else:\n",
        "    print('요청에 실패했습니다. 상태 코드:', response.status_code)"
      ],
      "metadata": {
        "colab": {
          "base_uri": "https://localhost:8080/"
        },
        "id": "NEMlQ-fNo38A",
        "outputId": "b1ce1370-c4e9-48ba-e82b-bf2d5615f3e8"
      },
      "execution_count": null,
      "outputs": [
        {
          "output_type": "stream",
          "name": "stdout",
          "text": [
            "사용자 생성 완료: {'name': 'John', 'age': 30, 'id': '277', 'createdAt': '2023-07-11T12:03:26.854Z'}\n"
          ]
        }
      ]
    },
    {
      "cell_type": "code",
      "source": [
        "res['data'][0]"
      ],
      "metadata": {
        "colab": {
          "base_uri": "https://localhost:8080/"
        },
        "id": "9fIt-xVqjP3E",
        "outputId": "48db7291-1f6b-42ab-d00b-efb6dc2b1a11"
      },
      "execution_count": null,
      "outputs": [
        {
          "output_type": "execute_result",
          "data": {
            "text/plain": [
              "{'id': 7,\n",
              " 'email': 'michael.lawson@reqres.in',\n",
              " 'first_name': 'Michael',\n",
              " 'last_name': 'Lawson',\n",
              " 'avatar': 'https://reqres.in/img/faces/7-image.jpg'}"
            ]
          },
          "metadata": {},
          "execution_count": 13
        }
      ]
    },
    {
      "cell_type": "markdown",
      "source": [
        "# 페이지를 순회하며 데이터 프레임 만들기! + 약간의 전처리"
      ],
      "metadata": {
        "id": "NWFjhYttmnHr"
      }
    },
    {
      "cell_type": "code",
      "source": [
        "import requests\n",
        "# GET 요청 보내기\n",
        "response = requests.get('https://reqres.in/api/users?page=2')\n",
        "\n",
        "# 응답 확인\n",
        "if response.status_code == 200:\n",
        "    res = response.json()\n",
        "    print(res)\n",
        "else:\n",
        "    print('요청에 실패했습니다. 상태 코드:', res.status_code)"
      ],
      "metadata": {
        "id": "OEtWAXQceC84"
      },
      "execution_count": null,
      "outputs": []
    },
    {
      "cell_type": "markdown",
      "source": [
        "# 원래 여러분들이 사용하실 때는...\n",
        "\n",
        "보통 API의 호출양이 지정되어 있어서, API 세션 아이디, 키가 보통 필요해요!\n",
        "\n",
        "</br>\n",
        "\n",
        "밑에 하고자 했던 코드는 여러페이지에 걸쳐 순회해서 데이터프레임으로 만드는 과정을 보여드리려고했는데,\n",
        "저게 api가 연습용 서버여서 조금 호출 횟수에 제한된 것 같네요!! 원래 1페이지 부터 11페이지까지 6 x 11 행이 나와야하는데, 무료이다보니 서버에 부담이 되어 time.sleep(5)로 해봤는데도 안되네요! 하여튼 예시로 참고하면 좋을 것 같습니다!\n"
      ],
      "metadata": {
        "id": "b7dD6Ccum8vw"
      }
    },
    {
      "cell_type": "code",
      "source": [
        "import requests\n",
        "import pandas as pd\n",
        "import time\n",
        "\n",
        "# 빈 데이터프레임 생성\n",
        "df_combined = pd.DataFrame()\n",
        "\n",
        "# 페이지 순회\n",
        "for page in range(1, 11):\n",
        "    # GET 요청 보내기\n",
        "    url = f'https://reqres.in/api/users?page={page}'\n",
        "    response = requests.get(url)\n",
        "\n",
        "    # 응답 확인\n",
        "    if response.status_code == 200:\n",
        "        data = response.json()\n",
        "        users = data['data']\n",
        "\n",
        "        # 데이터프레임으로 변환\n",
        "        df = pd.DataFrame(users)\n",
        "\n",
        "        # 데이터프레임 결합\n",
        "        df_combined = pd.concat([df_combined, df], ignore_index=True)\n",
        "    else:\n",
        "        print(f'페이지 {page} 요청에 실패했습니다. 상태 코드:', response.status_code)\n",
        "\n",
        "# 합쳐진 데이터프레임 출력 (아쉽게도 안됨)\n",
        "df_combined\n"
      ],
      "metadata": {
        "colab": {
          "base_uri": "https://localhost:8080/",
          "height": 425
        },
        "id": "9cNGNu74pffr",
        "outputId": "a910b084-bd71-4853-c3b1-72b49acb28a0"
      },
      "execution_count": null,
      "outputs": [
        {
          "output_type": "execute_result",
          "data": {
            "text/plain": [
              "    id                       email first_name last_name  \\\n",
              "0    1      george.bluth@reqres.in     George     Bluth   \n",
              "1    2      janet.weaver@reqres.in      Janet    Weaver   \n",
              "2    3         emma.wong@reqres.in       Emma      Wong   \n",
              "3    4          eve.holt@reqres.in        Eve      Holt   \n",
              "4    5    charles.morris@reqres.in    Charles    Morris   \n",
              "5    6      tracey.ramos@reqres.in     Tracey     Ramos   \n",
              "6    7    michael.lawson@reqres.in    Michael    Lawson   \n",
              "7    8  lindsay.ferguson@reqres.in    Lindsay  Ferguson   \n",
              "8    9      tobias.funke@reqres.in     Tobias     Funke   \n",
              "9   10      byron.fields@reqres.in      Byron    Fields   \n",
              "10  11    george.edwards@reqres.in     George   Edwards   \n",
              "11  12     rachel.howell@reqres.in     Rachel    Howell   \n",
              "\n",
              "                                      avatar  \n",
              "0    https://reqres.in/img/faces/1-image.jpg  \n",
              "1    https://reqres.in/img/faces/2-image.jpg  \n",
              "2    https://reqres.in/img/faces/3-image.jpg  \n",
              "3    https://reqres.in/img/faces/4-image.jpg  \n",
              "4    https://reqres.in/img/faces/5-image.jpg  \n",
              "5    https://reqres.in/img/faces/6-image.jpg  \n",
              "6    https://reqres.in/img/faces/7-image.jpg  \n",
              "7    https://reqres.in/img/faces/8-image.jpg  \n",
              "8    https://reqres.in/img/faces/9-image.jpg  \n",
              "9   https://reqres.in/img/faces/10-image.jpg  \n",
              "10  https://reqres.in/img/faces/11-image.jpg  \n",
              "11  https://reqres.in/img/faces/12-image.jpg  "
            ],
            "text/html": [
              "\n",
              "\n",
              "  <div id=\"df-05569c36-03ff-4b7b-8101-f50a7ac6ce4e\">\n",
              "    <div class=\"colab-df-container\">\n",
              "      <div>\n",
              "<style scoped>\n",
              "    .dataframe tbody tr th:only-of-type {\n",
              "        vertical-align: middle;\n",
              "    }\n",
              "\n",
              "    .dataframe tbody tr th {\n",
              "        vertical-align: top;\n",
              "    }\n",
              "\n",
              "    .dataframe thead th {\n",
              "        text-align: right;\n",
              "    }\n",
              "</style>\n",
              "<table border=\"1\" class=\"dataframe\">\n",
              "  <thead>\n",
              "    <tr style=\"text-align: right;\">\n",
              "      <th></th>\n",
              "      <th>id</th>\n",
              "      <th>email</th>\n",
              "      <th>first_name</th>\n",
              "      <th>last_name</th>\n",
              "      <th>avatar</th>\n",
              "    </tr>\n",
              "  </thead>\n",
              "  <tbody>\n",
              "    <tr>\n",
              "      <th>0</th>\n",
              "      <td>1</td>\n",
              "      <td>george.bluth@reqres.in</td>\n",
              "      <td>George</td>\n",
              "      <td>Bluth</td>\n",
              "      <td>https://reqres.in/img/faces/1-image.jpg</td>\n",
              "    </tr>\n",
              "    <tr>\n",
              "      <th>1</th>\n",
              "      <td>2</td>\n",
              "      <td>janet.weaver@reqres.in</td>\n",
              "      <td>Janet</td>\n",
              "      <td>Weaver</td>\n",
              "      <td>https://reqres.in/img/faces/2-image.jpg</td>\n",
              "    </tr>\n",
              "    <tr>\n",
              "      <th>2</th>\n",
              "      <td>3</td>\n",
              "      <td>emma.wong@reqres.in</td>\n",
              "      <td>Emma</td>\n",
              "      <td>Wong</td>\n",
              "      <td>https://reqres.in/img/faces/3-image.jpg</td>\n",
              "    </tr>\n",
              "    <tr>\n",
              "      <th>3</th>\n",
              "      <td>4</td>\n",
              "      <td>eve.holt@reqres.in</td>\n",
              "      <td>Eve</td>\n",
              "      <td>Holt</td>\n",
              "      <td>https://reqres.in/img/faces/4-image.jpg</td>\n",
              "    </tr>\n",
              "    <tr>\n",
              "      <th>4</th>\n",
              "      <td>5</td>\n",
              "      <td>charles.morris@reqres.in</td>\n",
              "      <td>Charles</td>\n",
              "      <td>Morris</td>\n",
              "      <td>https://reqres.in/img/faces/5-image.jpg</td>\n",
              "    </tr>\n",
              "    <tr>\n",
              "      <th>5</th>\n",
              "      <td>6</td>\n",
              "      <td>tracey.ramos@reqres.in</td>\n",
              "      <td>Tracey</td>\n",
              "      <td>Ramos</td>\n",
              "      <td>https://reqres.in/img/faces/6-image.jpg</td>\n",
              "    </tr>\n",
              "    <tr>\n",
              "      <th>6</th>\n",
              "      <td>7</td>\n",
              "      <td>michael.lawson@reqres.in</td>\n",
              "      <td>Michael</td>\n",
              "      <td>Lawson</td>\n",
              "      <td>https://reqres.in/img/faces/7-image.jpg</td>\n",
              "    </tr>\n",
              "    <tr>\n",
              "      <th>7</th>\n",
              "      <td>8</td>\n",
              "      <td>lindsay.ferguson@reqres.in</td>\n",
              "      <td>Lindsay</td>\n",
              "      <td>Ferguson</td>\n",
              "      <td>https://reqres.in/img/faces/8-image.jpg</td>\n",
              "    </tr>\n",
              "    <tr>\n",
              "      <th>8</th>\n",
              "      <td>9</td>\n",
              "      <td>tobias.funke@reqres.in</td>\n",
              "      <td>Tobias</td>\n",
              "      <td>Funke</td>\n",
              "      <td>https://reqres.in/img/faces/9-image.jpg</td>\n",
              "    </tr>\n",
              "    <tr>\n",
              "      <th>9</th>\n",
              "      <td>10</td>\n",
              "      <td>byron.fields@reqres.in</td>\n",
              "      <td>Byron</td>\n",
              "      <td>Fields</td>\n",
              "      <td>https://reqres.in/img/faces/10-image.jpg</td>\n",
              "    </tr>\n",
              "    <tr>\n",
              "      <th>10</th>\n",
              "      <td>11</td>\n",
              "      <td>george.edwards@reqres.in</td>\n",
              "      <td>George</td>\n",
              "      <td>Edwards</td>\n",
              "      <td>https://reqres.in/img/faces/11-image.jpg</td>\n",
              "    </tr>\n",
              "    <tr>\n",
              "      <th>11</th>\n",
              "      <td>12</td>\n",
              "      <td>rachel.howell@reqres.in</td>\n",
              "      <td>Rachel</td>\n",
              "      <td>Howell</td>\n",
              "      <td>https://reqres.in/img/faces/12-image.jpg</td>\n",
              "    </tr>\n",
              "  </tbody>\n",
              "</table>\n",
              "</div>\n",
              "      <button class=\"colab-df-convert\" onclick=\"convertToInteractive('df-05569c36-03ff-4b7b-8101-f50a7ac6ce4e')\"\n",
              "              title=\"Convert this dataframe to an interactive table.\"\n",
              "              style=\"display:none;\">\n",
              "\n",
              "  <svg xmlns=\"http://www.w3.org/2000/svg\" height=\"24px\"viewBox=\"0 0 24 24\"\n",
              "       width=\"24px\">\n",
              "    <path d=\"M0 0h24v24H0V0z\" fill=\"none\"/>\n",
              "    <path d=\"M18.56 5.44l.94 2.06.94-2.06 2.06-.94-2.06-.94-.94-2.06-.94 2.06-2.06.94zm-11 1L8.5 8.5l.94-2.06 2.06-.94-2.06-.94L8.5 2.5l-.94 2.06-2.06.94zm10 10l.94 2.06.94-2.06 2.06-.94-2.06-.94-.94-2.06-.94 2.06-2.06.94z\"/><path d=\"M17.41 7.96l-1.37-1.37c-.4-.4-.92-.59-1.43-.59-.52 0-1.04.2-1.43.59L10.3 9.45l-7.72 7.72c-.78.78-.78 2.05 0 2.83L4 21.41c.39.39.9.59 1.41.59.51 0 1.02-.2 1.41-.59l7.78-7.78 2.81-2.81c.8-.78.8-2.07 0-2.86zM5.41 20L4 18.59l7.72-7.72 1.47 1.35L5.41 20z\"/>\n",
              "  </svg>\n",
              "      </button>\n",
              "\n",
              "\n",
              "\n",
              "    <div id=\"df-8fd2f2d6-20e1-4ce5-b48c-d5f896a42e1b\">\n",
              "      <button class=\"colab-df-quickchart\" onclick=\"quickchart('df-8fd2f2d6-20e1-4ce5-b48c-d5f896a42e1b')\"\n",
              "              title=\"Suggest charts.\"\n",
              "              style=\"display:none;\">\n",
              "\n",
              "<svg xmlns=\"http://www.w3.org/2000/svg\" height=\"24px\"viewBox=\"0 0 24 24\"\n",
              "     width=\"24px\">\n",
              "    <g>\n",
              "        <path d=\"M19 3H5c-1.1 0-2 .9-2 2v14c0 1.1.9 2 2 2h14c1.1 0 2-.9 2-2V5c0-1.1-.9-2-2-2zM9 17H7v-7h2v7zm4 0h-2V7h2v10zm4 0h-2v-4h2v4z\"/>\n",
              "    </g>\n",
              "</svg>\n",
              "      </button>\n",
              "    </div>\n",
              "\n",
              "<style>\n",
              "  .colab-df-quickchart {\n",
              "    background-color: #E8F0FE;\n",
              "    border: none;\n",
              "    border-radius: 50%;\n",
              "    cursor: pointer;\n",
              "    display: none;\n",
              "    fill: #1967D2;\n",
              "    height: 32px;\n",
              "    padding: 0 0 0 0;\n",
              "    width: 32px;\n",
              "  }\n",
              "\n",
              "  .colab-df-quickchart:hover {\n",
              "    background-color: #E2EBFA;\n",
              "    box-shadow: 0px 1px 2px rgba(60, 64, 67, 0.3), 0px 1px 3px 1px rgba(60, 64, 67, 0.15);\n",
              "    fill: #174EA6;\n",
              "  }\n",
              "\n",
              "  [theme=dark] .colab-df-quickchart {\n",
              "    background-color: #3B4455;\n",
              "    fill: #D2E3FC;\n",
              "  }\n",
              "\n",
              "  [theme=dark] .colab-df-quickchart:hover {\n",
              "    background-color: #434B5C;\n",
              "    box-shadow: 0px 1px 3px 1px rgba(0, 0, 0, 0.15);\n",
              "    filter: drop-shadow(0px 1px 2px rgba(0, 0, 0, 0.3));\n",
              "    fill: #FFFFFF;\n",
              "  }\n",
              "</style>\n",
              "\n",
              "    <script>\n",
              "      async function quickchart(key) {\n",
              "        const containerElement = document.querySelector('#' + key);\n",
              "        const charts = await google.colab.kernel.invokeFunction(\n",
              "            'suggestCharts', [key], {});\n",
              "      }\n",
              "    </script>\n",
              "\n",
              "      <script>\n",
              "\n",
              "function displayQuickchartButton(domScope) {\n",
              "  let quickchartButtonEl =\n",
              "    domScope.querySelector('#df-8fd2f2d6-20e1-4ce5-b48c-d5f896a42e1b button.colab-df-quickchart');\n",
              "  quickchartButtonEl.style.display =\n",
              "    google.colab.kernel.accessAllowed ? 'block' : 'none';\n",
              "}\n",
              "\n",
              "        displayQuickchartButton(document);\n",
              "      </script>\n",
              "      <style>\n",
              "    .colab-df-container {\n",
              "      display:flex;\n",
              "      flex-wrap:wrap;\n",
              "      gap: 12px;\n",
              "    }\n",
              "\n",
              "    .colab-df-convert {\n",
              "      background-color: #E8F0FE;\n",
              "      border: none;\n",
              "      border-radius: 50%;\n",
              "      cursor: pointer;\n",
              "      display: none;\n",
              "      fill: #1967D2;\n",
              "      height: 32px;\n",
              "      padding: 0 0 0 0;\n",
              "      width: 32px;\n",
              "    }\n",
              "\n",
              "    .colab-df-convert:hover {\n",
              "      background-color: #E2EBFA;\n",
              "      box-shadow: 0px 1px 2px rgba(60, 64, 67, 0.3), 0px 1px 3px 1px rgba(60, 64, 67, 0.15);\n",
              "      fill: #174EA6;\n",
              "    }\n",
              "\n",
              "    [theme=dark] .colab-df-convert {\n",
              "      background-color: #3B4455;\n",
              "      fill: #D2E3FC;\n",
              "    }\n",
              "\n",
              "    [theme=dark] .colab-df-convert:hover {\n",
              "      background-color: #434B5C;\n",
              "      box-shadow: 0px 1px 3px 1px rgba(0, 0, 0, 0.15);\n",
              "      filter: drop-shadow(0px 1px 2px rgba(0, 0, 0, 0.3));\n",
              "      fill: #FFFFFF;\n",
              "    }\n",
              "  </style>\n",
              "\n",
              "      <script>\n",
              "        const buttonEl =\n",
              "          document.querySelector('#df-05569c36-03ff-4b7b-8101-f50a7ac6ce4e button.colab-df-convert');\n",
              "        buttonEl.style.display =\n",
              "          google.colab.kernel.accessAllowed ? 'block' : 'none';\n",
              "\n",
              "        async function convertToInteractive(key) {\n",
              "          const element = document.querySelector('#df-05569c36-03ff-4b7b-8101-f50a7ac6ce4e');\n",
              "          const dataTable =\n",
              "            await google.colab.kernel.invokeFunction('convertToInteractive',\n",
              "                                                     [key], {});\n",
              "          if (!dataTable) return;\n",
              "\n",
              "          const docLinkHtml = 'Like what you see? Visit the ' +\n",
              "            '<a target=\"_blank\" href=https://colab.research.google.com/notebooks/data_table.ipynb>data table notebook</a>'\n",
              "            + ' to learn more about interactive tables.';\n",
              "          element.innerHTML = '';\n",
              "          dataTable['output_type'] = 'display_data';\n",
              "          await google.colab.output.renderOutput(dataTable, element);\n",
              "          const docLink = document.createElement('div');\n",
              "          docLink.innerHTML = docLinkHtml;\n",
              "          element.appendChild(docLink);\n",
              "        }\n",
              "      </script>\n",
              "    </div>\n",
              "  </div>\n"
            ]
          },
          "metadata": {},
          "execution_count": 8
        }
      ]
    },
    {
      "cell_type": "markdown",
      "source": [
        "# 과제 !! 나쁜 사람 아닙니다\n",
        "\n",
        "\n",
        "**개념 요약!! 아래 마크다운을 채워주세요 !! **\n",
        "\n",
        "챗지피티 사용금지\n",
        "\n"
      ],
      "metadata": {
        "id": "8F68nCfwrh4W"
      }
    },
    {
      "cell_type": "markdown",
      "source": [
        "\n",
        "## API란 ->  Application(사용자가 원하는 기능을 수행하도록 할 때 사용하는 앱이나 소프트웨어 프로그램) 간의 정보를 주고 받기 위한 인터페이스(서로 다른 두 시스템 간 상호작용을 담당하는 규칙)로, 두 어플리케이션의 서로간 통신 방법을 정의하는\n",
        "\n",
        "## REST API란 -> 자원을 표현하기 위한 이름들을 구분하여 그것에 따라 상태를 주고 받는 것\n",
        "\n",
        "## 각각에 대응하는 HTTP의 메서드를 적어주세요\n",
        "\n",
        "### Create -> post\n",
        "### Read -> get\n",
        "### Update -> put\n",
        "### Delete -> delete\n",
        "\n"
      ],
      "metadata": {
        "id": "cvTI708Lti7t"
      }
    },
    {
      "cell_type": "markdown",
      "source": [
        "## 실습 과제 1 공식문서를 읽고 아래의 예시코드에 파라미터를 바꿔서 보낸 결과 확인하기!!\n",
        "\n",
        "공식문서에 파라미터들을 직접 넘겨줘서 요청을 보내면 됩니다!"
      ],
      "metadata": {
        "id": "Xm5B5UfvugmE"
      }
    },
    {
      "cell_type": "markdown",
      "source": [
        "<https://punkapi.com/documentation/v2>"
      ],
      "metadata": {
        "id": "5YRNO7xo3tal"
      }
    },
    {
      "cell_type": "code",
      "source": [
        "!curl https://api.punkapi.com/v2/beers"
      ],
      "metadata": {
        "colab": {
          "base_uri": "https://localhost:8080/"
        },
        "id": "O4-ECenj3rkb",
        "outputId": "9b38b94e-a680-4e40-993c-79fcd7c2909b"
      },
      "execution_count": 1,
      "outputs": [
        {
          "output_type": "stream",
          "name": "stdout",
          "text": [
            "[{\"id\":1,\"name\":\"Buzz\",\"tagline\":\"A Real Bitter Experience.\",\"first_brewed\":\"09/2007\",\"description\":\"A light, crisp and bitter IPA brewed with English and American hops. A small batch brewed only once.\",\"image_url\":\"https://images.punkapi.com/v2/keg.png\",\"abv\":4.5,\"ibu\":60,\"target_fg\":1010,\"target_og\":1044,\"ebc\":20,\"srm\":10,\"ph\":4.4,\"attenuation_level\":75,\"volume\":{\"value\":20,\"unit\":\"litres\"},\"boil_volume\":{\"value\":25,\"unit\":\"litres\"},\"method\":{\"mash_temp\":[{\"temp\":{\"value\":64,\"unit\":\"celsius\"},\"duration\":75}],\"fermentation\":{\"temp\":{\"value\":19,\"unit\":\"celsius\"}},\"twist\":null},\"ingredients\":{\"malt\":[{\"name\":\"Maris Otter Extra Pale\",\"amount\":{\"value\":3.3,\"unit\":\"kilograms\"}},{\"name\":\"Caramalt\",\"amount\":{\"value\":0.2,\"unit\":\"kilograms\"}},{\"name\":\"Munich\",\"amount\":{\"value\":0.4,\"unit\":\"kilograms\"}}],\"hops\":[{\"name\":\"Fuggles\",\"amount\":{\"value\":25,\"unit\":\"grams\"},\"add\":\"start\",\"attribute\":\"bitter\"},{\"name\":\"First Gold\",\"amount\":{\"value\":25,\"unit\":\"grams\"},\"add\":\"start\",\"attribute\":\"bitter\"},{\"name\":\"Fuggles\",\"amount\":{\"value\":37.5,\"unit\":\"grams\"},\"add\":\"middle\",\"attribute\":\"flavour\"},{\"name\":\"First Gold\",\"amount\":{\"value\":37.5,\"unit\":\"grams\"},\"add\":\"middle\",\"attribute\":\"flavour\"},{\"name\":\"Cascade\",\"amount\":{\"value\":37.5,\"unit\":\"grams\"},\"add\":\"end\",\"attribute\":\"flavour\"}],\"yeast\":\"Wyeast 1056 - American Ale™\"},\"food_pairing\":[\"Spicy chicken tikka masala\",\"Grilled chicken quesadilla\",\"Caramel toffee cake\"],\"brewers_tips\":\"The earthy and floral aromas from the hops can be overpowering. Drop a little Cascade in at the end of the boil to lift the profile with a bit of citrus.\",\"contributed_by\":\"Sam Mason <samjbmason>\"},{\"id\":2,\"name\":\"Trashy Blonde\",\"tagline\":\"You Know You Shouldn't\",\"first_brewed\":\"04/2008\",\"description\":\"A titillating, neurotic, peroxide punk of a Pale Ale. Combining attitude, style, substance, and a little bit of low self esteem for good measure; what would your mother say? The seductive lure of the sassy passion fruit hop proves too much to resist. All that is even before we get onto the fact that there are no additives, preservatives, pasteurization or strings attached. All wrapped up with the customary BrewDog bite and imaginative twist.\",\"image_url\":\"https://images.punkapi.com/v2/2.png\",\"abv\":4.1,\"ibu\":41.5,\"target_fg\":1010,\"target_og\":1041.7,\"ebc\":15,\"srm\":15,\"ph\":4.4,\"attenuation_level\":76,\"volume\":{\"value\":20,\"unit\":\"litres\"},\"boil_volume\":{\"value\":25,\"unit\":\"litres\"},\"method\":{\"mash_temp\":[{\"temp\":{\"value\":69,\"unit\":\"celsius\"},\"duration\":null}],\"fermentation\":{\"temp\":{\"value\":18,\"unit\":\"celsius\"}},\"twist\":null},\"ingredients\":{\"malt\":[{\"name\":\"Maris Otter Extra Pale\",\"amount\":{\"value\":3.25,\"unit\":\"kilograms\"}},{\"name\":\"Caramalt\",\"amount\":{\"value\":0.2,\"unit\":\"kilograms\"}},{\"name\":\"Munich\",\"amount\":{\"value\":0.4,\"unit\":\"kilograms\"}}],\"hops\":[{\"name\":\"Amarillo\",\"amount\":{\"value\":13.8,\"unit\":\"grams\"},\"add\":\"start\",\"attribute\":\"bitter\"},{\"name\":\"Simcoe\",\"amount\":{\"value\":13.8,\"unit\":\"grams\"},\"add\":\"start\",\"attribute\":\"bitter\"},{\"name\":\"Amarillo\",\"amount\":{\"value\":26.3,\"unit\":\"grams\"},\"add\":\"end\",\"attribute\":\"flavour\"},{\"name\":\"Motueka\",\"amount\":{\"value\":18.8,\"unit\":\"grams\"},\"add\":\"end\",\"attribute\":\"flavour\"}],\"yeast\":\"Wyeast 1056 - American Ale™\"},\"food_pairing\":[\"Fresh crab with lemon\",\"Garlic butter dipping sauce\",\"Goats cheese salad\",\"Creamy lemon bar doused in powdered sugar\"],\"brewers_tips\":\"Be careful not to collect too much wort from the mash. Once the sugars are all washed out there are some very unpleasant grainy tasting compounds that can be extracted into the wort.\",\"contributed_by\":\"Sam Mason <samjbmason>\"},{\"id\":3,\"name\":\"Berliner Weisse With Yuzu - B-Sides\",\"tagline\":\"Japanese Citrus Berliner Weisse.\",\"first_brewed\":\"11/2015\",\"description\":\"Japanese citrus fruit intensifies the sour nature of this German classic.\",\"image_url\":\"https://images.punkapi.com/v2/keg.png\",\"abv\":4.2,\"ibu\":8,\"target_fg\":1007,\"target_og\":1040,\"ebc\":8,\"srm\":4,\"ph\":3.2,\"attenuation_level\":83,\"volume\":{\"value\":20,\"unit\":\"litres\"},\"boil_volume\":{\"value\":25,\"unit\":\"litres\"},\"method\":{\"mash_temp\":[{\"temp\":{\"value\":60,\"unit\":\"celsius\"},\"duration\":10},{\"temp\":{\"value\":65,\"unit\":\"celsius\"},\"duration\":30},{\"temp\":{\"value\":72,\"unit\":\"celsius\"},\"duration\":10},{\"temp\":{\"value\":78,\"unit\":\"celsius\"},\"duration\":5}],\"fermentation\":{\"temp\":{\"value\":21,\"unit\":\"celsius\"}},\"twist\":\"Soured naturally using the kettle souring technique, Yuzu fruit: 50g at middle, Yuzu juice: 200ml at FV\"},\"ingredients\":{\"malt\":[{\"name\":\"Propino Pale Malt\",\"amount\":{\"value\":1.63,\"unit\":\"kilograms\"}},{\"name\":\"Wheat Malt\",\"amount\":{\"value\":1.63,\"unit\":\"kilograms\"}},{\"name\":\"Propino Pale Malt for kettle souring\",\"amount\":{\"value\":0.03,\"unit\":\"kilograms\"}},{\"name\":\"Acidulated Malt for kettle souring\",\"amount\":{\"value\":0.03,\"unit\":\"kilograms\"}}],\"hops\":[{\"name\":\"Bramling Cross\",\"amount\":{\"value\":10,\"unit\":\"grams\"},\"add\":\"middle\",\"attribute\":\"bitter\"}],\"yeast\":\"Wyeast 1056 - American Ale™\"},\"food_pairing\":[\"Smoked chicken wings\",\"Miso ramen\",\"Yuzu cheesecake\"],\"brewers_tips\":\"Clean everything twice. All you want is the clean sourness of lactobacillus.\",\"contributed_by\":\"Sam Mason <samjbmason>\"},{\"id\":4,\"name\":\"Pilsen Lager\",\"tagline\":\"Unleash the Yeast Series.\",\"first_brewed\":\"09/2013\",\"description\":\"Our Unleash the Yeast series was an epic experiment into the differences in aroma and flavour provided by switching up your yeast. We brewed up a wort with a light caramel note and some toasty biscuit flavour, and hopped it with Amarillo and Centennial for a citrusy bitterness. Everything else is down to the yeast. Pilsner yeast ferments with no fruity esters or spicy phenols, although it can add a hint of butterscotch.\",\"image_url\":\"https://images.punkapi.com/v2/4.png\",\"abv\":6.3,\"ibu\":55,\"target_fg\":1012,\"target_og\":1060,\"ebc\":30,\"srm\":15,\"ph\":4.4,\"attenuation_level\":80,\"volume\":{\"value\":20,\"unit\":\"litres\"},\"boil_volume\":{\"value\":25,\"unit\":\"litres\"},\"method\":{\"mash_temp\":[{\"temp\":{\"value\":65,\"unit\":\"celsius\"},\"duration\":null}],\"fermentation\":{\"temp\":{\"value\":9,\"unit\":\"celsius\"}},\"twist\":null},\"ingredients\":{\"malt\":[{\"name\":\"Extra Pale\",\"amount\":{\"value\":4.58,\"unit\":\"kilograms\"}},{\"name\":\"Caramalt\",\"amount\":{\"value\":0.25,\"unit\":\"kilograms\"}},{\"name\":\"Dark Crystal\",\"amount\":{\"value\":0.06,\"unit\":\"kilograms\"}},{\"name\":\"Munich\",\"amount\":{\"value\":0.25,\"unit\":\"kilograms\"}}],\"hops\":[{\"name\":\"Centennial\",\"amount\":{\"value\":5,\"unit\":\"grams\"},\"add\":\"start\",\"attribute\":\"bitter\"},{\"name\":\"Amarillo\",\"amount\":{\"value\":5,\"unit\":\"grams\"},\"add\":\"start\",\"attribute\":\"bitter\"},{\"name\":\"Centennial\",\"amount\":{\"value\":10,\"unit\":\"grams\"},\"add\":\"middle\",\"attribute\":\"flavour\"},{\"name\":\"Amarillo\",\"amount\":{\"value\":10,\"unit\":\"grams\"},\"add\":\"middle\",\"attribute\":\"flavour\"},{\"name\":\"Centennial\",\"amount\":{\"value\":17.5,\"unit\":\"grams\"},\"add\":\"end\",\"attribute\":\"flavour\"},{\"name\":\"Amarillo\",\"amount\":{\"value\":17.5,\"unit\":\"grams\"},\"add\":\"end\",\"attribute\":\"flavour\"}],\"yeast\":\"Wyeast 2007 - Pilsen Lager™\"},\"food_pairing\":[\"Spicy crab cakes\",\"Spicy cucumber and carrot Thai salad\",\"Sweet filled dumplings\"],\"brewers_tips\":\"Play around with the fermentation temperature to get the best flavour profile from the individual yeasts.\",\"contributed_by\":\"Ali Skinner <AliSkinner>\"},{\"id\":5,\"name\":\"Avery Brown Dredge\",\"tagline\":\"Bloggers' Imperial Pilsner.\",\"first_brewed\":\"02/2011\",\"description\":\"An Imperial Pilsner in collaboration with beer writers. Tradition. Homage. Revolution. We wanted to showcase the awesome backbone of the Czech brewing tradition, the noble Saaz hop, and also tip our hats to the modern beers that rock our world, and the people who make them.\",\"image_url\":\"https://images.punkapi.com/v2/5.png\",\"abv\":7.2,\"ibu\":59,\"target_fg\":1027,\"target_og\":1069,\"ebc\":10,\"srm\":5,\"ph\":4.4,\"attenuation_level\":67,\"volume\":{\"value\":20,\"unit\":\"litres\"},\"boil_volume\":{\"value\":25,\"unit\":\"litres\"},\"method\":{\"mash_temp\":[{\"temp\":{\"value\":66,\"unit\":\"celsius\"},\"duration\":70}],\"fermentation\":{\"temp\":{\"value\":10,\"unit\":\"celsius\"}},\"twist\":null},\"ingredients\":{\"malt\":[{\"name\":\"Lager Malt\",\"amount\":{\"value\":6.63,\"unit\":\"kilograms\"}},{\"name\":\"Wheat\",\"amount\":{\"value\":0.38,\"unit\":\"kilograms\"}}],\"hops\":[{\"name\":\"Saaz\",\"amount\":{\"value\":60,\"unit\":\"grams\"},\"add\":\"start\",\"attribute\":\"bitter\"},{\"name\":\"Saaz\",\"amount\":{\"value\":60,\"unit\":\"grams\"},\"add\":\"middle\",\"attribute\":\"flavour\"},{\"name\":\"Saaz\",\"amount\":{\"value\":60,\"unit\":\"grams\"},\"add\":\"end\",\"attribute\":\"flavour\"}],\"yeast\":\"Wyeast 2007 - Pilsen Lager™\"},\"food_pairing\":[\"Vietnamese squid salad\",\"Chargrilled corn on the cob with paprika butter\",\"Strawberry and rhubarb pie\"],\"brewers_tips\":\"Make sure you have a big enough yeast starter to ferment through the OG and lager successfully.\",\"contributed_by\":\"Sam Mason <samjbmason>\"},{\"id\":6,\"name\":\"Electric India\",\"tagline\":\"Vibrant Hoppy Saison.\",\"first_brewed\":\"05/2013\",\"description\":\"Re-brewed as a spring seasonal, this beer – which appeared originally as an Equity Punk shareholder creation – retains its trademark spicy, fruity edge. A perfect blend of Belgian Saison and US IPA, crushed peppercorns and heather honey are also added to produce a genuinely unique beer.\",\"image_url\":\"https://images.punkapi.com/v2/6.png\",\"abv\":5.2,\"ibu\":38,\"target_fg\":1005,\"target_og\":1045,\"ebc\":15,\"srm\":7.5,\"ph\":4.4,\"attenuation_level\":88.9,\"volume\":{\"value\":20,\"unit\":\"litres\"},\"boil_volume\":{\"value\":25,\"unit\":\"litres\"},\"method\":{\"mash_temp\":[{\"temp\":{\"value\":65,\"unit\":\"celsius\"},\"duration\":75}],\"fermentation\":{\"temp\":{\"value\":22,\"unit\":\"celsius\"}},\"twist\":\"Honey: 62.5g at End (WP), Coriander Seeds: 8.5g at 45mins\"},\"ingredients\":{\"malt\":[{\"name\":\"Extra Pale\",\"amount\":{\"value\":3.63,\"unit\":\"kilograms\"}},{\"name\":\"Munich\",\"amount\":{\"value\":0.13,\"unit\":\"kilograms\"}},{\"name\":\"Wheat\",\"amount\":{\"value\":0.25,\"unit\":\"kilograms\"}}],\"hops\":[{\"name\":\"Amarillo\",\"amount\":{\"value\":2.5,\"unit\":\"grams\"},\"add\":\"start\",\"attribute\":\"bitter\"},{\"name\":\"Nelson Sauvin\",\"amount\":{\"value\":5,\"unit\":\"grams\"},\"add\":\"middle\",\"attribute\":\"flavour\"},{\"name\":\"Amarillo\",\"amount\":{\"value\":5,\"unit\":\"grams\"},\"add\":\"middle\",\"attribute\":\"flavour\"},{\"name\":\"Peppercorns\",\"amount\":{\"value\":2.5,\"unit\":\"grams\"},\"add\":\"middle\",\"attribute\":\"flavour\"},{\"name\":\"Nelson Sauvin\",\"amount\":{\"value\":20,\"unit\":\"grams\"},\"add\":\"end\",\"attribute\":\"flavour\"},{\"name\":\"Amarillo\",\"amount\":{\"value\":12.5,\"unit\":\"grams\"},\"add\":\"end\",\"attribute\":\"flavour\"}],\"yeast\":\"Wyeast 3711 - French Saison™\"},\"food_pairing\":[\"Mussels with a garlic and herb sauce\",\"Crab melt sandwich\",\"Shortbread cookies\"],\"brewers_tips\":\"Source some really good heather honey to get the right spicy esters in the beer.\",\"contributed_by\":\"Sam Mason <samjbmason>\"},{\"id\":7,\"name\":\"AB:12\",\"tagline\":\"Imperial Black Belgian Ale.\",\"first_brewed\":\"07/2012\",\"description\":\"An Imperial Black Belgian Ale aged in old Invergordon Scotch whisky barrels with mountains of raspberries, tayberries and blackberries in each cask. Decadent but light and dry, this beer would make a fantastic base for ageing on pretty much any dark fruit - we used raspberries, tayberries and blackberries beause they were local.\",\"image_url\":\"https://images.punkapi.com/v2/7.png\",\"abv\":11.2,\"ibu\":35,\"target_fg\":1017,\"target_og\":1108,\"ebc\":80,\"srm\":40,\"ph\":5.3,\"attenuation_level\":84,\"volume\":{\"value\":20,\"unit\":\"litres\"},\"boil_volume\":{\"value\":25,\"unit\":\"litres\"},\"method\":{\"mash_temp\":[{\"temp\":{\"value\":69,\"unit\":\"celsius\"},\"duration\":105}],\"fermentation\":{\"temp\":{\"value\":21,\"unit\":\"celsius\"}},\"twist\":\"Aged in whisky barrels with raspberries, tayberries and blackberries\"},\"ingredients\":{\"malt\":[{\"name\":\"Extra Pale\",\"amount\":{\"value\":9.69,\"unit\":\"kilograms\"}},{\"name\":\"Chocolate\",\"amount\":{\"value\":0.19,\"unit\":\"kilograms\"}},{\"name\":\"Carafa Special Malt Type 3\",\"amount\":{\"value\":0.44,\"unit\":\"kilograms\"}}],\"hops\":[{\"name\":\"Tomahawk\",\"amount\":{\"value\":31.25,\"unit\":\"grams\"},\"add\":\"start\",\"attribute\":\"bitter\"},{\"name\":\"Magnum\",\"amount\":{\"value\":12.5,\"unit\":\"grams\"},\"add\":\"start\",\"attribute\":\"bitter\"},{\"name\":\"Magnum\",\"amount\":{\"value\":12.5,\"unit\":\"grams\"},\"add\":\"middle\",\"attribute\":\"flavour\"},{\"name\":\"Tomahawk\",\"amount\":{\"value\":12.5,\"unit\":\"grams\"},\"add\":\"end\",\"attribute\":\"flavour\"},{\"name\":\"Centennial\",\"amount\":{\"value\":25,\"unit\":\"grams\"},\"add\":\"end\",\"attribute\":\"flavour\"},{\"name\":\"Amarillo\",\"amount\":{\"value\":25,\"unit\":\"grams\"},\"add\":\"end\",\"attribute\":\"flavour\"},{\"name\":\"Centennial\",\"amount\":{\"value\":25,\"unit\":\"grams\"},\"add\":\"dry hop\",\"attribute\":\"aroma\"},{\"name\":\"Amarillo\",\"amount\":{\"value\":25,\"unit\":\"grams\"},\"add\":\"dry hop\",\"attribute\":\"aroma\"},{\"name\":\"Tomahawk\",\"amount\":{\"value\":37.5,\"unit\":\"grams\"},\"add\":\"dry hop\",\"attribute\":\"aroma\"}],\"yeast\":\"Wyeast 3522 - Belgian Ardennes™\"},\"food_pairing\":[\"Tandoori lamb with pomegranate\",\"Beef Wellington with a red wine jus\",\"Raspberry chocolate torte\"],\"brewers_tips\":\"Don't worry too much about controlling the temperature with the Belgian yeast strain - just make sure it doesn't rise above 30°C!\",\"contributed_by\":\"Sam Mason <samjbmason>\"},{\"id\":8,\"name\":\"Fake Lager\",\"tagline\":\"Bohemian Pilsner.\",\"first_brewed\":\"03/2013\",\"description\":\"Fake is the new black. Fake is where it is at. Fake Art, fake brands, fake breasts, and fake lager. We want to play our part in the ugly fallout from the Lager Dream. Say hello to Fake Lager – a zesty, floral 21st century faux masterpiece with added BrewDog bitterness.\",\"image_url\":\"https://images.punkapi.com/v2/8.png\",\"abv\":4.7,\"ibu\":40,\"target_fg\":1010,\"target_og\":1046,\"ebc\":12,\"srm\":6,\"ph\":4.4,\"attenuation_level\":78,\"volume\":{\"value\":20,\"unit\":\"litres\"},\"boil_volume\":{\"value\":25,\"unit\":\"litres\"},\"method\":{\"mash_temp\":[{\"temp\":{\"value\":65,\"unit\":\"celsius\"},\"duration\":75}],\"fermentation\":{\"temp\":{\"value\":10,\"unit\":\"celsius\"}},\"twist\":null},\"ingredients\":{\"malt\":[{\"name\":\"Extra Pale\",\"amount\":{\"value\":3.33,\"unit\":\"kilograms\"}},{\"name\":\"Munich\",\"amount\":{\"value\":0.42,\"unit\":\"kilograms\"}},{\"name\":\"Caramalt\",\"amount\":{\"value\":0.28,\"unit\":\"kilograms\"}},{\"name\":\"Acidulated Malt\",\"amount\":{\"value\":0.07,\"unit\":\"kilograms\"}}],\"hops\":[{\"name\":\"Magnum\",\"amount\":{\"value\":7.5,\"unit\":\"grams\"},\"add\":\"start\",\"attribute\":\"bitter\"},{\"name\":\"Magnum\",\"amount\":{\"value\":5,\"unit\":\"grams\"},\"add\":\"middle\",\"attribute\":\"flavour\"},{\"name\":\"Hersbrucker\",\"amount\":{\"value\":6.25,\"unit\":\"grams\"},\"add\":\"middle\",\"attribute\":\"flavour\"},{\"name\":\"Saaz\",\"amount\":{\"value\":6.25,\"unit\":\"grams\"},\"add\":\"middle\",\"attribute\":\"flavour\"},{\"name\":\"Hersbrucker\",\"amount\":{\"value\":18.75,\"unit\":\"grams\"},\"add\":\"end\",\"attribute\":\"flavour\"},{\"name\":\"Saaz\",\"amount\":{\"value\":18.75,\"unit\":\"grams\"},\"add\":\"end\",\"attribute\":\"flavour\"}],\"yeast\":\"Wyeast 2007 - Pilsen Lager™\"},\"food_pairing\":[\"Fried crab cakes with avocado salsa\",\"Spicy shredded pork roll with hot dipping sauce\",\"Key lime pie\"],\"brewers_tips\":\"Once the primary fermentation is complete get this beer as cold as you can and let it mature for as long as you've got.\",\"contributed_by\":\"Sam Mason <samjbmason>\"},{\"id\":9,\"name\":\"AB:07\",\"tagline\":\"Whisky Cask-Aged Scotch Ale.\",\"first_brewed\":\"03/2010\",\"description\":\"Whisky cask-aged imperial scotch ale. Beer perfect for when the rain is coming sideways. Liquorice, plum and raisin temper the warming alcohol, producing a beer capable of holding back the Scottish chill.\",\"image_url\":\"https://images.punkapi.com/v2/9.png\",\"abv\":12.5,\"ibu\":30,\"target_fg\":1020,\"target_og\":1106,\"ebc\":84,\"srm\":42,\"ph\":5.6,\"attenuation_level\":83,\"volume\":{\"value\":20,\"unit\":\"litres\"},\"boil_volume\":{\"value\":25,\"unit\":\"litres\"},\"method\":{\"mash_temp\":[{\"temp\":{\"value\":65,\"unit\":\"celsius\"},\"duration\":105}],\"fermentation\":{\"temp\":{\"value\":11,\"unit\":\"celsius\"}},\"twist\":\"Scottish Heather Honey: 62.5g at middle, Add honey during the boil. After fermentation, age in a Scottish whisky cask\"},\"ingredients\":{\"malt\":[{\"name\":\"Munich\",\"amount\":{\"value\":5.63,\"unit\":\"kilograms\"}},{\"name\":\"Flaked Oats\",\"amount\":{\"value\":1.88,\"unit\":\"kilograms\"}},{\"name\":\"Wheat\",\"amount\":{\"value\":1.88,\"unit\":\"kilograms\"}},{\"name\":\"Caramalt\",\"amount\":{\"value\":1.25,\"unit\":\"kilograms\"}},{\"name\":\"Crystal\",\"amount\":{\"value\":0.63,\"unit\":\"kilograms\"}},{\"name\":\"Dark Crystal\",\"amount\":{\"value\":0.63,\"unit\":\"kilograms\"}},{\"name\":\"Chocolate\",\"amount\":{\"value\":0.31,\"unit\":\"kilograms\"}},{\"name\":\"Peated Malt\",\"amount\":{\"value\":0.13,\"unit\":\"kilograms\"}},{\"name\":\"Amber\",\"amount\":{\"value\":0.13,\"unit\":\"kilograms\"}},{\"name\":\"Brown\",\"amount\":{\"value\":0.13,\"unit\":\"kilograms\"}}],\"hops\":[{\"name\":\"Saaz\",\"amount\":{\"value\":25,\"unit\":\"grams\"},\"add\":\"start\",\"attribute\":\"bitter\"},{\"name\":\"First Gold\",\"amount\":{\"value\":31.3,\"unit\":\"grams\"},\"add\":\"start\",\"attribute\":\"bitter\"}],\"yeast\":\"Saflager S189\"},\"food_pairing\":[\"Kedgeree\",\"Scotch broth with sourdough bread\",\"Clootie dumpling\"],\"brewers_tips\":\"Authentic heather honey adds a beautiful floral top note that is unachievable any other way.\",\"contributed_by\":\"Sam Mason <samjbmason>\"},{\"id\":10,\"name\":\"Bramling X\",\"tagline\":\"Single Hop IPA Series - 2011.\",\"first_brewed\":\"01/2011\",\"description\":\"Good old Bramling Cross is elegant, refined, assured, (boring) and understated. Understated that is unless you hop the living daylights out of a beer with it. This is Bramling Cross re-invented and re-imagined, and shows just what can be done with English hops if you use enough of them. Poor Bramling Cross normally gets lost in a woeful stream of conformist brown ales made by sleepy cask ale brewers. But not anymore. This beer shows that British hops do have some soul, and is a fruity riot of blackberries, pears, and plums. Reminds me of the bramble, apple and ginger jam my grandmother used to make.\",\"image_url\":\"https://images.punkapi.com/v2/10.png\",\"abv\":7.5,\"ibu\":75,\"target_fg\":1013,\"target_og\":1068,\"ebc\":22,\"srm\":11,\"ph\":4.4,\"attenuation_level\":80.9,\"volume\":{\"value\":20,\"unit\":\"litres\"},\"boil_volume\":{\"value\":25,\"unit\":\"litres\"},\"method\":{\"mash_temp\":[{\"temp\":{\"value\":65,\"unit\":\"celsius\"},\"duration\":75}],\"fermentation\":{\"temp\":{\"value\":19,\"unit\":\"celsius\"}},\"twist\":null},\"ingredients\":{\"malt\":[{\"name\":\"Extra Pale\",\"amount\":{\"value\":6.38,\"unit\":\"kilograms\"}},{\"name\":\"Crystal 150\",\"amount\":{\"value\":0.13,\"unit\":\"kilograms\"}},{\"name\":\"Caramalt\",\"amount\":{\"value\":0.25,\"unit\":\"kilograms\"}}],\"hops\":[{\"name\":\"Bramling Cross\",\"amount\":{\"value\":60,\"unit\":\"grams\"},\"add\":\"start\",\"attribute\":\"bitter\"},{\"name\":\"Bramling Cross\",\"amount\":{\"value\":50,\"unit\":\"grams\"},\"add\":\"end\",\"attribute\":\"flavour\"}],\"yeast\":\"Wyeast 1056 - American Ale™\"},\"food_pairing\":[\"Warm blackberry pie\",\"Vinegar doused fish and chips\",\"Aromatic korma curry with lemon and garlic naan\"],\"brewers_tips\":\"Getting good Bramling Cross is key. Most English hops are in leaf form (not pelletised), so getting fresh hops close to harvest (September) will give this beer the right amount of dark berry intensity.\",\"contributed_by\":\"Sam Mason <samjbmason>\"},{\"id\":11,\"name\":\"Misspent Youth\",\"tagline\":\"Milk & Honey Scotch Ale.\",\"first_brewed\":\"04/2013\",\"description\":\"The brainchild of our small batch brewer, George Woods. A dangerously drinkable milk sugar- infused Scotch Ale.\",\"image_url\":\"https://images.punkapi.com/v2/keg.png\",\"abv\":7.3,\"ibu\":30,\"target_fg\":1020,\"target_og\":1079,\"ebc\":120,\"srm\":60,\"ph\":4.4,\"attenuation_level\":74.7,\"volume\":{\"value\":20,\"unit\":\"litres\"},\"boil_volume\":{\"value\":25,\"unit\":\"litres\"},\"method\":{\"mash_temp\":[{\"temp\":{\"value\":67,\"unit\":\"celsius\"},\"duration\":75}],\"fermentation\":{\"temp\":{\"value\":19,\"unit\":\"celsius\"}},\"twist\":\"See honey and lactose additions\"},\"ingredients\":{\"malt\":[{\"name\":\"Pale Ale\",\"amount\":{\"value\":2.18,\"unit\":\"kilograms\"}},{\"name\":\"Caramalt\",\"amount\":{\"value\":0.3,\"unit\":\"kilograms\"}},{\"name\":\"Dark Crystal\",\"amount\":{\"value\":0.3,\"unit\":\"kilograms\"}},{\"name\":\"Smoked Weyermann\",\"amount\":{\"value\":1.8,\"unit\":\"kilograms\"}},{\"name\":\"Flaked Oats\",\"amount\":{\"value\":0.6,\"unit\":\"kilograms\"}},{\"name\":\"Brown\",\"amount\":{\"value\":0.6,\"unit\":\"kilograms\"}},{\"name\":\"Amber\",\"amount\":{\"value\":0.1,\"unit\":\"kilograms\"}},{\"name\":\"Chocolate\",\"amount\":{\"value\":0.05,\"unit\":\"kilograms\"}},{\"name\":\"Munich\",\"amount\":{\"value\":0.6,\"unit\":\"kilograms\"}},{\"name\":\"Crystal 150\",\"amount\":{\"value\":0.2,\"unit\":\"kilograms\"}}],\"hops\":[{\"name\":\"First Gold\",\"amount\":{\"value\":25,\"unit\":\"grams\"},\"add\":\"start\",\"attribute\":\"bitter\"},{\"name\":\"Fuggles\",\"amount\":{\"value\":25,\"unit\":\"grams\"},\"add\":\"start\",\"attribute\":\"bitter\"},{\"name\":\"Honey\",\"amount\":{\"value\":250,\"unit\":\"grams\"},\"add\":\"middle\",\"attribute\":\"Flavour\"},{\"name\":\"Lactose\",\"amount\":{\"value\":375,\"unit\":\"grams\"},\"add\":\"middle\",\"attribute\":\"Flavour\"},{\"name\":\"First Gold\",\"amount\":{\"value\":10,\"unit\":\"grams\"},\"add\":\"end\",\"attribute\":\"aroma\"},{\"name\":\"Fuggles\",\"amount\":{\"value\":10,\"unit\":\"grams\"},\"add\":\"end\",\"attribute\":\"aroma\"}],\"yeast\":\"Wyeast 1056 - American Ale™\"},\"food_pairing\":[\"Roasted garlic and chilli infused camembert cheese\",\"Korean style chicken wings\",\"Chocolate milk shake\"],\"brewers_tips\":\"Lots of malt in this one. Mash-in in stages, and spread the pale ale malt throughout the mash to provide stability. If the mash starts to sink, stop, wait a few minutes while mixing, then start again.\",\"contributed_by\":\"Sam Mason <samjbmason>\"},{\"id\":12,\"name\":\"Arcade Nation\",\"tagline\":\"Seasonal Black IPA.\",\"first_brewed\":\"12/2015\",\"description\":\"Running the knife-edge between an India Pale Ale and a Stout, this particular style is one we truly love. Black IPAs are a great showcase for the skill of our brew team, balancing so many complex and twisting flavours in the same moment. The citrus, mango and pine from the hops – three of our all-time favourites – play off against the roasty dryness from the malt bill at each and every turn.\",\"image_url\":\"https://images.punkapi.com/v2/12.png\",\"abv\":5.3,\"ibu\":60,\"target_fg\":1012,\"target_og\":1052,\"ebc\":200,\"srm\":100,\"ph\":4.2,\"attenuation_level\":77,\"volume\":{\"value\":20,\"unit\":\"litres\"},\"boil_volume\":{\"value\":25,\"unit\":\"litres\"},\"method\":{\"mash_temp\":[{\"temp\":{\"value\":65,\"unit\":\"celsius\"},\"duration\":null}],\"fermentation\":{\"temp\":{\"value\":19,\"unit\":\"celsius\"}},\"twist\":null},\"ingredients\":{\"malt\":[{\"name\":\"Pale Ale\",\"amount\":{\"value\":3.13,\"unit\":\"kilograms\"}},{\"name\":\"Caramalt\",\"amount\":{\"value\":0.25,\"unit\":\"kilograms\"}},{\"name\":\"Crystal 150\",\"amount\":{\"value\":0.18,\"unit\":\"kilograms\"}},{\"name\":\"Carafa Special Malt Type 1\",\"amount\":{\"value\":0.25,\"unit\":\"kilograms\"}}],\"hops\":[{\"name\":\"Simcoe\",\"amount\":{\"value\":12.5,\"unit\":\"grams\"},\"add\":\"start\",\"attribute\":\"bitter\"},{\"name\":\"Simcoe\",\"amount\":{\"value\":19,\"unit\":\"grams\"},\"add\":\"middle\",\"attribute\":\"flavour\"},{\"name\":\"Simcoe\",\"amount\":{\"value\":12.5,\"unit\":\"grams\"},\"add\":\"end\",\"attribute\":\"flavour\"},{\"name\":\"Amarillo\",\"amount\":{\"value\":12.5,\"unit\":\"grams\"},\"add\":\"end\",\"attribute\":\"flavour\"},{\"name\":\"Citra\",\"amount\":{\"value\":12.5,\"unit\":\"grams\"},\"add\":\"end\",\"attribute\":\"flavour\"},{\"name\":\"Simcoe\",\"amount\":{\"value\":62.5,\"unit\":\"grams\"},\"add\":\"dry hop\",\"attribute\":\"aroma\"},{\"name\":\"Amarillo\",\"amount\":{\"value\":62.5,\"unit\":\"grams\"},\"add\":\"dry hop\",\"attribute\":\"aroma\"},{\"name\":\"Citra\",\"amount\":{\"value\":62.5,\"unit\":\"grams\"},\"add\":\"dry hop\",\"attribute\":\"aroma\"}],\"yeast\":\"Wyeast 1056 - American Ale™\"},\"food_pairing\":[\"King prawn kebabs\",\"Halibut with a mango and tomato salad\",\"Mint chocloate ice cream\"],\"brewers_tips\":\"Be as accurate as possible when weighing out your malts to ensure you strike the right balance.\",\"contributed_by\":\"Sam Mason <samjbmason>\"},{\"id\":13,\"name\":\"Movember\",\"tagline\":\"Moustache-Worthy Beer.\",\"first_brewed\":\"11/2009\",\"description\":\"A deliciously robust, black malted beer with a decadent dark, dry cocoa flavour that provides an enticing backdrop to the Cascade hops.\",\"image_url\":\"https://images.punkapi.com/v2/13.png\",\"abv\":4.5,\"ibu\":50,\"target_fg\":1012,\"target_og\":1047,\"ebc\":140,\"srm\":70,\"ph\":5.2,\"attenuation_level\":74.5,\"volume\":{\"value\":20,\"unit\":\"litres\"},\"boil_volume\":{\"value\":25,\"unit\":\"litres\"},\"method\":{\"mash_temp\":[{\"temp\":{\"value\":68,\"unit\":\"celsius\"},\"duration\":50}],\"fermentation\":{\"temp\":{\"value\":19,\"unit\":\"celsius\"}},\"twist\":null},\"ingredients\":{\"malt\":[{\"name\":\"Maris Otter Extra Pale\",\"amount\":{\"value\":3.44,\"unit\":\"kilograms\"}},{\"name\":\"Caramalt\",\"amount\":{\"value\":0.63,\"unit\":\"kilograms\"}},{\"name\":\"Crystal 150\",\"amount\":{\"value\":0.31,\"unit\":\"kilograms\"}},{\"name\":\"Carafa Special Malt Type 1\",\"amount\":{\"value\":0.31,\"unit\":\"kilograms\"}},{\"name\":\"Carafa Special Malt Type 3\",\"amount\":{\"value\":0.31,\"unit\":\"kilograms\"}}],\"hops\":[{\"name\":\"Cascade\",\"amount\":{\"value\":43.8,\"unit\":\"grams\"},\"add\":\"start\",\"attribute\":\"bitter\"},{\"name\":\"Cascade\",\"amount\":{\"value\":81.3,\"unit\":\"grams\"},\"add\":\"end\",\"attribute\":\"flavour\"},{\"name\":\"Cascade\",\"amount\":{\"value\":250,\"unit\":\"grams\"},\"add\":\"dry hop\",\"attribute\":\"aroma\"}],\"yeast\":\"Wyeast 1056 - American Ale™\"},\"food_pairing\":[\"Vegetable egg scramble\",\"Margherita pizza\",\"Fresh berry crisp tart\"],\"brewers_tips\":\"If you can’t find really fresh cascade, substitute it for Amarillo or Ahtanum.\",\"contributed_by\":\"Sam Mason <samjbmason>\"},{\"id\":14,\"name\":\"Alpha Dog\",\"tagline\":\"Existential Red Ale.\",\"first_brewed\":\"02/2010\",\"description\":\"A fusion of caramel malt flavours and punchy New Zealand hops. A session beer you can get your teeth into.\",\"image_url\":\"https://images.punkapi.com/v2/14.png\",\"abv\":4.5,\"ibu\":42,\"target_fg\":1025,\"target_og\":1046,\"ebc\":62,\"srm\":31,\"ph\":4.4,\"attenuation_level\":72.8,\"volume\":{\"value\":20,\"unit\":\"litres\"},\"boil_volume\":{\"value\":25,\"unit\":\"litres\"},\"method\":{\"mash_temp\":[{\"temp\":{\"value\":65,\"unit\":\"celsius\"},\"duration\":25}],\"fermentation\":{\"temp\":{\"value\":22,\"unit\":\"celsius\"}},\"twist\":null},\"ingredients\":{\"malt\":[{\"name\":\"Maris Otter Extra Pale\",\"amount\":{\"value\":2.5,\"unit\":\"kilograms\"}},{\"name\":\"Caramalt\",\"amount\":{\"value\":1.25,\"unit\":\"kilograms\"}},{\"name\":\"Munich\",\"amount\":{\"value\":0.61,\"unit\":\"kilograms\"}},{\"name\":\"Crystal 150\",\"amount\":{\"value\":0.28,\"unit\":\"kilograms\"}},{\"name\":\"Dark Crystal 350-400\",\"amount\":{\"value\":0.2,\"unit\":\"kilograms\"}}],\"hops\":[{\"name\":\"Nelson Sauvin\",\"amount\":{\"value\":15,\"unit\":\"grams\"},\"add\":\"start\",\"attribute\":\"bitter\"},{\"name\":\"Amarillo\",\"amount\":{\"value\":10,\"unit\":\"grams\"},\"add\":\"end\",\"attribute\":\"flavour\"},{\"name\":\"Nelson Sauvin\",\"amount\":{\"value\":30,\"unit\":\"grams\"},\"add\":\"end\",\"attribute\":\"flavour\"}],\"yeast\":\"Wyeast 1056 - American Ale™\"},\"food_pairing\":[\"Pastrami\",\"Swiss and horseradish sandwich\",\"Sharp cheddar cheese and onion/ raisin chutney\",\"Peanut brittle\"],\"brewers_tips\":\"Crush the malt as close to brewing time as possible. The fresher the malt, the more intense caramel flavours will be released in the wort.\",\"contributed_by\":\"Sam Mason <samjbmason>\"},{\"id\":15,\"name\":\"Mixtape 8\",\"tagline\":\"An Epic Fusion Of Old Belgian, American New Wave, And Scotch Whisky.\",\"first_brewed\":\"01/2012\",\"description\":\"This recipe is for the Belgian Tripel base. A blend of two huge oak aged beers – half a hopped up Belgian Tripel, and half a Triple India Pale Ale. Both aged in single grain whisky barrels for two years and blended, each beer brings its own character to the mix. The Belgian Tripel comes loaded with complex spicy, fruity esters, and punchy citrus hop character.\",\"image_url\":\"https://images.punkapi.com/v2/15.png\",\"abv\":14.5,\"ibu\":50,\"target_fg\":1014,\"target_og\":1093,\"ebc\":40,\"srm\":20,\"ph\":4.4,\"attenuation_level\":85,\"volume\":{\"value\":20,\"unit\":\"litres\"},\"boil_volume\":{\"value\":25,\"unit\":\"litres\"},\"method\":{\"mash_temp\":[{\"temp\":{\"value\":65,\"unit\":\"celsius\"},\"duration\":40}],\"fermentation\":{\"temp\":{\"value\":21,\"unit\":\"celsius\"}},\"twist\":\"Barrel aged and blended with Anarchist Alchemist\"},\"ingredients\":{\"malt\":[{\"name\":\"Pale Ale - Tipple\",\"amount\":{\"value\":11.1,\"unit\":\"kilograms\"}},{\"name\":\"Caramalt\",\"amount\":{\"value\":0.94,\"unit\":\"kilograms\"}},{\"name\":\"Crystal\",\"amount\":{\"value\":0.44,\"unit\":\"kilograms\"}}],\"hops\":[{\"name\":\"Columbus Extract\",\"amount\":{\"value\":12.5,\"unit\":\"grams\"},\"add\":\"start\",\"attribute\":\"bitter\"},{\"name\":\"Centennial\",\"amount\":{\"value\":37.5,\"unit\":\"grams\"},\"add\":\"end\",\"attribute\":\"flavour\"},{\"name\":\"Cascade\",\"amount\":{\"value\":37.5,\"unit\":\"grams\"},\"add\":\"end\",\"attribute\":\"flavour\"},{\"name\":\"Simcoe\",\"amount\":{\"value\":37.5,\"unit\":\"grams\"},\"add\":\"end\",\"attribute\":\"flavour\"}],\"yeast\":\"Wyeast 3522 - Belgian Ardennes™\"},\"food_pairing\":[\"Coriander & chilli crab cakes\",\"Goats cheese salad with walnuts, radish and blood orange\",\"Pistachio cake\"],\"brewers_tips\":\"Brew twice as much Belgian Tripel as you were planning on ageing - it's awesome on its own too!\",\"contributed_by\":\"Sam Mason <samjbmason>\"},{\"id\":16,\"name\":\"Libertine Porter\",\"tagline\":\"Dry-Hopped Aggressive Porter.\",\"first_brewed\":\"01/2012\",\"description\":\"An avalanche of cross-continental hop varieties give this porter a complex spicy, resinous and citrusy aroma, with a huge malt bill providing a complex roasty counterpoint. Digging deeper into the flavour draws out cinder toffee, bitter chocolate and hints of woodsmoke.\",\"image_url\":\"https://images.punkapi.com/v2/16.png\",\"abv\":6.1,\"ibu\":45,\"target_fg\":1020,\"target_og\":1067,\"ebc\":219,\"srm\":109.5,\"ph\":4.4,\"attenuation_level\":70.1,\"volume\":{\"value\":20,\"unit\":\"litres\"},\"boil_volume\":{\"value\":25,\"unit\":\"litres\"},\"method\":{\"mash_temp\":[{\"temp\":{\"value\":68,\"unit\":\"celsius\"},\"duration\":35}],\"fermentation\":{\"temp\":{\"value\":18,\"unit\":\"celsius\"}},\"twist\":null},\"ingredients\":{\"malt\":[{\"name\":\"Extra Pale - Spring Blend\",\"amount\":{\"value\":5,\"unit\":\"kilograms\"}},{\"name\":\"Caramalt\",\"amount\":{\"value\":1.25,\"unit\":\"kilograms\"}},{\"name\":\"Crystal 150\",\"amount\":{\"value\":0.63,\"unit\":\"kilograms\"}},{\"name\":\"Chocolate\",\"amount\":{\"value\":0.63,\"unit\":\"kilograms\"}},{\"name\":\"Roasted Barley\",\"amount\":{\"value\":0.63,\"unit\":\"kilograms\"}},{\"name\":\"Wheat\",\"amount\":{\"value\":0.31,\"unit\":\"kilograms\"}},{\"name\":\"Flaked Oats\",\"amount\":{\"value\":0.31,\"unit\":\"kilograms\"}},{\"name\":\"Smoked Malt\",\"amount\":{\"value\":0.06,\"unit\":\"kilograms\"}}],\"hops\":[{\"name\":\"Columbus\",\"amount\":{\"value\":31.25,\"unit\":\"grams\"},\"add\":\"start\",\"attribute\":\"bitter\"},{\"name\":\"Columbus\",\"amount\":{\"value\":25,\"unit\":\"grams\"},\"add\":\"end\",\"attribute\":\"bitter\"},{\"name\":\"Willamette\",\"amount\":{\"value\":25,\"unit\":\"grams\"},\"add\":\"end\",\"attribute\":\"flavour\"},{\"name\":\"Galena\",\"amount\":{\"value\":25,\"unit\":\"grams\"},\"add\":\"end\",\"attribute\":\"flavour\"},{\"name\":\"Columbus\",\"amount\":{\"value\":75,\"unit\":\"grams\"},\"add\":\"dry hop\",\"attribute\":\"aroma\"},{\"name\":\"Galena\",\"amount\":{\"value\":75,\"unit\":\"grams\"},\"add\":\"dry hop\",\"attribute\":\"aroma\"},{\"name\":\"Simcoe\",\"amount\":{\"value\":100,\"unit\":\"grams\"},\"add\":\"dry hop\",\"attribute\":\"aroma\"}],\"yeast\":\"Wyeast 1056 - American Ale™\"},\"food_pairing\":[\"Blue cheese beef burger\",\"Glazed short ribs\",\"Chocolate cake\"],\"brewers_tips\":\"Mash in at a higher temperature to leave more unfermentable sugars in the wort. This gives the beer a sweeter porter profile.\",\"contributed_by\":\"Sam Mason <samjbmason>\"},{\"id\":17,\"name\":\"AB:06\",\"tagline\":\"Imperial Black IPA.\",\"first_brewed\":\"04/2011\",\"description\":\"Our sixth Abstrakt, this imperial black IPA combined dark malts with a monumental triple dry-hop, using an all-star team of some of our favourite American hops. Roasty and resinous.\",\"image_url\":\"https://images.punkapi.com/v2/17.png\",\"abv\":11.2,\"ibu\":150,\"target_fg\":1013,\"target_og\":1098,\"ebc\":70,\"srm\":35,\"ph\":null,\"attenuation_level\":87,\"volume\":{\"value\":20,\"unit\":\"litres\"},\"boil_volume\":{\"value\":25,\"unit\":\"litres\"},\"method\":{\"mash_temp\":[{\"temp\":{\"value\":65,\"unit\":\"celsius\"},\"duration\":90}],\"fermentation\":{\"temp\":{\"value\":17,\"unit\":\"celsius\"}},\"twist\":\"White cane sugar: 150g at middle\"},\"ingredients\":{\"malt\":[{\"name\":\"Pale Ale\",\"amount\":{\"value\":6.13,\"unit\":\"kilograms\"}},{\"name\":\"Crystal 150\",\"amount\":{\"value\":0.25,\"unit\":\"kilograms\"}},{\"name\":\"Caramalt\",\"amount\":{\"value\":0.38,\"unit\":\"kilograms\"}},{\"name\":\"Carafa Special Malt Type 1\",\"amount\":{\"value\":0.13,\"unit\":\"kilograms\"}},{\"name\":\"Carafa Special Malt Type 3\",\"amount\":{\"value\":0.13,\"unit\":\"kilograms\"}}],\"hops\":[{\"name\":\"Hop Extract\",\"amount\":{\"value\":20,\"unit\":\"grams\"},\"add\":\"start\",\"attribute\":\"bitter\"},{\"name\":\"Amarillo\",\"amount\":{\"value\":25,\"unit\":\"grams\"},\"add\":\"start\",\"attribute\":\"bitter\"},{\"name\":\"Chinook\",\"amount\":{\"value\":25,\"unit\":\"grams\"},\"add\":\"end\",\"attribute\":\"flavour\"},{\"name\":\"Cascade\",\"amount\":{\"value\":25,\"unit\":\"grams\"},\"add\":\"end\",\"attribute\":\"flavour\"},{\"name\":\"Centennial\",\"amount\":{\"value\":25,\"unit\":\"grams\"},\"add\":\"end\",\"attribute\":\"flavour\"},{\"name\":\"Columbus\",\"amount\":{\"value\":25,\"unit\":\"grams\"},\"add\":\"end\",\"attribute\":\"flavour\"},{\"name\":\"Chinook\",\"amount\":{\"value\":25,\"unit\":\"grams\"},\"add\":\"dry hop\",\"attribute\":\"aroma\"},{\"name\":\"Cascade\",\"amount\":{\"value\":25,\"unit\":\"grams\"},\"add\":\"dry hop\",\"attribute\":\"aroma\"},{\"name\":\"Centennial\",\"amount\":{\"value\":25,\"unit\":\"grams\"},\"add\":\"dry hop\",\"attribute\":\"aroma\"},{\"name\":\"Columbus\",\"amount\":{\"value\":25,\"unit\":\"grams\"},\"add\":\"dry hop\",\"attribute\":\"aroma\"},{\"name\":\"Amarillo\",\"amount\":{\"value\":25,\"unit\":\"grams\"},\"add\":\"dry hop\",\"attribute\":\"aroma\"}],\"yeast\":\"Wyeast 1272 - American Ale II™\"},\"food_pairing\":[\"Coffee dusted venison loin\",\"Memphis-style beef short ribs\",\"Chocolate orange brownies\"],\"brewers_tips\":\"Boil down to desired OG (about 17 litres).\",\"contributed_by\":\"Sam Mason <samjbmason>\"},{\"id\":18,\"name\":\"Russian Doll – India Pale Ale\",\"tagline\":\"Nesting Hop Bomb.\",\"first_brewed\":\"08/2014\",\"description\":\"The levels of hops vary throughout the range. We love hops, so all four beers are big, bitter badasses, but by tweaking the amount of each hop used later in the boil and during dry- hopping, we can balance the malty backbone with some unexpected flavours. Simcoe is used in the whirlpool for all four beers, and yet still lends different characters to each\",\"image_url\":\"https://images.punkapi.com/v2/18.png\",\"abv\":6,\"ibu\":70,\"target_fg\":1012,\"target_og\":1058,\"ebc\":25,\"srm\":12.5,\"ph\":5.2,\"attenuation_level\":79.3,\"volume\":{\"value\":20,\"unit\":\"litres\"},\"boil_volume\":{\"value\":25,\"unit\":\"litres\"},\"method\":{\"mash_temp\":[{\"temp\":{\"value\":65,\"unit\":\"celsius\"},\"duration\":75}],\"fermentation\":{\"temp\":{\"value\":19,\"unit\":\"celsius\"}},\"twist\":null},\"ingredients\":{\"malt\":[{\"name\":\"Extra Pale\",\"amount\":{\"value\":5.06,\"unit\":\"kilograms\"}},{\"name\":\"Caramalt\",\"amount\":{\"value\":0.25,\"unit\":\"kilograms\"}},{\"name\":\"Dark Crystal\",\"amount\":{\"value\":0.06,\"unit\":\"kilograms\"}}],\"hops\":[{\"name\":\"Cascade\",\"amount\":{\"value\":2.5,\"unit\":\"grams\"},\"add\":\"start\",\"attribute\":\"bitter\"},{\"name\":\"Centennial\",\"amount\":{\"value\":12.5,\"unit\":\"grams\"},\"add\":\"middle\",\"attribute\":\"flavour\"},{\"name\":\"Simcoe\",\"amount\":{\"value\":17.5,\"unit\":\"grams\"},\"add\":\"middle\",\"attribute\":\"flavour\"},{\"name\":\"Simcoe\",\"amount\":{\"value\":17.5,\"unit\":\"grams\"},\"add\":\"end\",\"attribute\":\"flavour\"},{\"name\":\"Citra\",\"amount\":{\"value\":17.5,\"unit\":\"grams\"},\"add\":\"end\",\"attribute\":\"flavour\"},{\"name\":\"Simcoe\",\"amount\":{\"value\":75,\"unit\":\"grams\"},\"add\":\"dry hop\",\"attribute\":\"aroma\"},{\"name\":\"Cascade\",\"amount\":{\"value\":75,\"unit\":\"grams\"},\"add\":\"dry hop\",\"attribute\":\"aroma\"},{\"name\":\"Centennial\",\"amount\":{\"value\":75,\"unit\":\"grams\"},\"add\":\"dry hop\",\"attribute\":\"aroma\"},{\"name\":\"Citra\",\"amount\":{\"value\":25,\"unit\":\"grams\"},\"add\":\"dry hop\",\"attribute\":\"aroma\"}],\"yeast\":\"Wyeast 1056 - American Ale™\"},\"food_pairing\":[\"Spicy chicken skewers\",\"Fish tacos with hot sauce\",\"Lemon pound cake with a ice sugar glaze\"],\"brewers_tips\":\"Create balance through experimentation with the hop amounts and malt backbone.\",\"contributed_by\":\"Sam Mason <samjbmason>\"},{\"id\":19,\"name\":\"Hello My Name Is Mette-Marit\",\"tagline\":\"Lingonberry Double IPA.\",\"first_brewed\":\"06/2013\",\"description\":\"We sent this beer to Norway where it was known as 'Hello, my name is Censored’. You can make up your own mind as to why. This brew was a red berry explosion, with a reisnous bitter edge layered with dry berry tartness.\",\"image_url\":\"https://images.punkapi.com/v2/19.png\",\"abv\":8.2,\"ibu\":70,\"target_fg\":1013,\"target_og\":1076,\"ebc\":null,\"srm\":null,\"ph\":4.4,\"attenuation_level\":83,\"volume\":{\"value\":20,\"unit\":\"litres\"},\"boil_volume\":{\"value\":25,\"unit\":\"litres\"},\"method\":{\"mash_temp\":[{\"temp\":{\"value\":66,\"unit\":\"celsius\"},\"duration\":90}],\"fermentation\":{\"temp\":{\"value\":19,\"unit\":\"celsius\"}},\"twist\":\"Infusion of lingonberries alongside the dry hops, Cranberry Juice: 5.5g at 30mins, Lingonberries: 10g Twist\"},\"ingredients\":{\"malt\":[{\"name\":\"Extra Pale\",\"amount\":{\"value\":6.12,\"unit\":\"kilograms\"}},{\"name\":\"Caramalt\",\"amount\":{\"value\":0.8,\"unit\":\"kilograms\"}}],\"hops\":[{\"name\":\"Tomahawk\",\"amount\":{\"value\":7,\"unit\":\"grams\"},\"add\":\"start\",\"attribute\":\"bitter\"},{\"name\":\"Motueka\",\"amount\":{\"value\":5.5,\"unit\":\"grams\"},\"add\":\"start\",\"attribute\":\"bitter\"},{\"name\":\"Galena\",\"amount\":{\"value\":2.5,\"unit\":\"grams\"},\"add\":\"middle\",\"attribute\":\"flavour\"},{\"name\":\"Mt.Hood\",\"amount\":{\"value\":2.5,\"unit\":\"grams\"},\"add\":\"middle\",\"attribute\":\"flavour\"},{\"name\":\"Challenger\",\"amount\":{\"value\":15,\"unit\":\"grams\"},\"add\":\"dry hop\",\"attribute\":\"aroma\"},{\"name\":\"Galena\",\"amount\":{\"value\":15,\"unit\":\"grams\"},\"add\":\"dry hop\",\"attribute\":\"aroma\"},{\"name\":\"Nelson Sauvin\",\"amount\":{\"value\":20,\"unit\":\"grams\"},\"add\":\"dry hop\",\"attribute\":\"aroma\"}],\"yeast\":\"Wyeast 1056 - American Ale™\"},\"food_pairing\":[\"Fårikål (mutton stew) with a spicy twist\",\"Fenalår (salted cured lamb)\",\"Krumkake with lingonberry jam\"],\"brewers_tips\":\"Using crushed cranberries will dry out the beer further, drawing out their natural astringent character.\",\"contributed_by\":\"Sam Mason <samjbmason>\"},{\"id\":20,\"name\":\"Rabiator\",\"tagline\":\"Imperial Wheat Beer\",\"first_brewed\":\"03/2011\",\"description\":\"Imperial Wheat beer / Weizenbock brewed by a homesick German in leather trousers. Think banana bread, bubble gum and David Hasselhoff.\",\"image_url\":\"https://images.punkapi.com/v2/keg.png\",\"abv\":10.27,\"ibu\":26,\"target_fg\":1014,\"target_og\":1092,\"ebc\":24,\"srm\":12,\"ph\":4.4,\"attenuation_level\":85,\"volume\":{\"value\":20,\"unit\":\"litres\"},\"boil_volume\":{\"value\":25,\"unit\":\"litres\"},\"method\":{\"mash_temp\":[{\"temp\":{\"value\":64,\"unit\":\"celsius\"},\"duration\":60}],\"fermentation\":{\"temp\":{\"value\":21,\"unit\":\"celsius\"}},\"twist\":null},\"ingredients\":{\"malt\":[{\"name\":\"Extra Pale\",\"amount\":{\"value\":5.63,\"unit\":\"kilograms\"}},{\"name\":\"Wheat\",\"amount\":{\"value\":0.69,\"unit\":\"kilograms\"}},{\"name\":\"Crystal\",\"amount\":{\"value\":0.63,\"unit\":\"kilograms\"}}],\"hops\":[{\"name\":\"Columbus\",\"amount\":{\"value\":12.5,\"unit\":\"grams\"},\"add\":\"start\",\"attribute\":\"bitter\"},{\"name\":\"Hersbrucker\",\"amount\":{\"value\":12.5,\"unit\":\"grams\"},\"add\":\"middle\",\"attribute\":\"flavour\"}],\"yeast\":\"Wyeast 3333 - German Wheat™\"},\"food_pairing\":[\"Grilled portabello mushroom burger\",\"Chicken sausages with creamy mash\",\"Caramel and banana meringue pie\"],\"brewers_tips\":\"If you are struggling to get that authentic head retention increase your mash temperature to about 70°C.\",\"contributed_by\":\"Sam Mason <samjbmason>\"},{\"id\":21,\"name\":\"Vice Bier\",\"tagline\":\"Hoppy Wheat Bier.\",\"first_brewed\":\"04/2013\",\"description\":\"Our take on the classic German Kristallweizen. A clear German wheat beer, layers of bubblegum and vanilla perfectly balanced with the American and New Zealand hops.\",\"image_url\":\"https://images.punkapi.com/v2/keg.png\",\"abv\":4.3,\"ibu\":25,\"target_fg\":1010,\"target_og\":1043,\"ebc\":30,\"srm\":15,\"ph\":4,\"attenuation_level\":81.8,\"volume\":{\"value\":20,\"unit\":\"litres\"},\"boil_volume\":{\"value\":25,\"unit\":\"litres\"},\"method\":{\"mash_temp\":[{\"temp\":{\"value\":65,\"unit\":\"celsius\"},\"duration\":75}],\"fermentation\":{\"temp\":{\"value\":22,\"unit\":\"celsius\"}},\"twist\":null},\"ingredients\":{\"malt\":[{\"name\":\"Extra Pale\",\"amount\":{\"value\":2.69,\"unit\":\"kilograms\"}},{\"name\":\"Wheat\",\"amount\":{\"value\":1.25,\"unit\":\"kilograms\"}},{\"name\":\"Caramalt\",\"amount\":{\"value\":0.38,\"unit\":\"kilograms\"}}],\"hops\":[{\"name\":\"Waimea\",\"amount\":{\"value\":2.5,\"unit\":\"grams\"},\"add\":\"start\",\"attribute\":\"bitter\"},{\"name\":\"Amarillo\",\"amount\":{\"value\":2.5,\"unit\":\"grams\"},\"add\":\"middle\",\"attribute\":\"flavour\"},{\"name\":\"Nelson Sauvin\",\"amount\":{\"value\":2.5,\"unit\":\"grams\"},\"add\":\"middle\",\"attribute\":\"flavour\"},{\"name\":\"Motueka\",\"amount\":{\"value\":2.5,\"unit\":\"grams\"},\"add\":\"middle\",\"attribute\":\"flavour\"},{\"name\":\"Simcoe\",\"amount\":{\"value\":6,\"unit\":\"grams\"},\"add\":\"end\",\"attribute\":\"flavour\"},{\"name\":\"Citra\",\"amount\":{\"value\":6,\"unit\":\"grams\"},\"add\":\"end\",\"attribute\":\"flavour\"},{\"name\":\"Waimea\",\"amount\":{\"value\":6,\"unit\":\"grams\"},\"add\":\"end\",\"attribute\":\"flavour\"}],\"yeast\":\"Wyeast 3638 - Bavarian Wheat™\"},\"food_pairing\":[\"Citrus salad with balsamic dressing\",\"Lobster\",\"Ginger and orange cookies\"],\"brewers_tips\":\"Ferment at higher or lower temperatures to select the esters that will create clove- like or banana-like flavours.\",\"contributed_by\":\"Sam Mason <samjbmason>\"},{\"id\":22,\"name\":\"Devine Rebel (w/ Mikkeller)\",\"tagline\":\"Oak-aged Barley Wine.\",\"first_brewed\":\"12/2008\",\"description\":\"Two of Europe's most experimental, boundary-pushing brewers, BrewDog and Mikkeller, combined forces to produce a rebellious beer that combined their respective talents and brewing skills. The 12.5% Barley Wine fermented well, and the champagne yeast drew it ever closer to 12.5%. The beer was brewed with a single hop variety and was going to be partially aged in oak casks.\",\"image_url\":\"https://images.punkapi.com/v2/22.png\",\"abv\":12.5,\"ibu\":100,\"target_fg\":1030,\"target_og\":1093,\"ebc\":36,\"srm\":18,\"ph\":4.4,\"attenuation_level\":68,\"volume\":{\"value\":20,\"unit\":\"litres\"},\"boil_volume\":{\"value\":25,\"unit\":\"litres\"},\"method\":{\"mash_temp\":[{\"temp\":{\"value\":65,\"unit\":\"celsius\"},\"duration\":90}],\"fermentation\":{\"temp\":{\"value\":19,\"unit\":\"celsius\"}},\"twist\":\"Part-aged in oak barrels, finished with champagne yeast\"},\"ingredients\":{\"malt\":[{\"name\":\"Extra Pale\",\"amount\":{\"value\":10,\"unit\":\"kilograms\"}},{\"name\":\"Caramalt\",\"amount\":{\"value\":1.88,\"unit\":\"kilograms\"}},{\"name\":\"Munich\",\"amount\":{\"value\":1.25,\"unit\":\"kilograms\"}},{\"name\":\"Amber\",\"amount\":{\"value\":0.63,\"unit\":\"kilograms\"}}],\"hops\":[{\"name\":\"Nelson Sauvin\",\"amount\":{\"value\":100,\"unit\":\"grams\"},\"add\":\"start\",\"attribute\":\"bitter\"},{\"name\":\"Nelson Sauvin\",\"amount\":{\"value\":100,\"unit\":\"grams\"},\"add\":\"end\",\"attribute\":\"flavour\"}],\"yeast\":\"Wyeast 1056 - American Ale™\"},\"food_pairing\":[\"Stilton on gingerbread biscuits\",\"Pot roasted artichokes\",\"Lamb chops with caramelised figs\"],\"brewers_tips\":\"Rack off to a secondary fermenter before pitching in some champagne.\",\"contributed_by\":\"Sam Mason <samjbmason>\"},{\"id\":23,\"name\":\"Storm\",\"tagline\":\"Islay Whisky Aged IPA.\",\"first_brewed\":\"12/2007\",\"description\":\"Dark and powerful Islay magic infuses this tropical sensation of an IPA. Using the original Punk IPA as a base, we boosted the ABV to 8% giving it some extra backbone to stand up to the peated smoke imported directly from Islay.\",\"image_url\":\"https://images.punkapi.com/v2/23.png\",\"abv\":8,\"ibu\":60,\"target_fg\":1010,\"target_og\":1082,\"ebc\":12,\"srm\":6,\"ph\":4.4,\"attenuation_level\":86,\"volume\":{\"value\":20,\"unit\":\"litres\"},\"boil_volume\":{\"value\":25,\"unit\":\"litres\"},\"method\":{\"mash_temp\":[{\"temp\":{\"value\":65,\"unit\":\"celsius\"},\"duration\":75}],\"fermentation\":{\"temp\":{\"value\":19,\"unit\":\"celsius\"}},\"twist\":\"Oak chips soaked in Islay whisky 50g\"},\"ingredients\":{\"malt\":[{\"name\":\"Extra Pale\",\"amount\":{\"value\":5.8,\"unit\":\"kilograms\"}}],\"hops\":[{\"name\":\"Ahtanum\",\"amount\":{\"value\":17.5,\"unit\":\"grams\"},\"add\":\"start\",\"attribute\":\"bitter\"},{\"name\":\"Chinook\",\"amount\":{\"value\":15,\"unit\":\"grams\"},\"add\":\"start\",\"attribute\":\"bitter\"},{\"name\":\"Crystal\",\"amount\":{\"value\":17.5,\"unit\":\"grams\"},\"add\":\"middle\",\"attribute\":\"flavour\"},{\"name\":\"Chinook\",\"amount\":{\"value\":17.5,\"unit\":\"grams\"},\"add\":\"middle\",\"attribute\":\"flavour\"},{\"name\":\"Ahtanum\",\"amount\":{\"value\":17.5,\"unit\":\"grams\"},\"add\":\"end\",\"attribute\":\"flavour\"},{\"name\":\"Chinook\",\"amount\":{\"value\":27.5,\"unit\":\"grams\"},\"add\":\"end\",\"attribute\":\"flavour\"},{\"name\":\"Crystal\",\"amount\":{\"value\":17.5,\"unit\":\"grams\"},\"add\":\"end\",\"attribute\":\"flavour\"},{\"name\":\"Motueka\",\"amount\":{\"value\":17.5,\"unit\":\"grams\"},\"add\":\"end\",\"attribute\":\"flavour\"}],\"yeast\":\"Wyeast 1056 - American Ale™\"},\"food_pairing\":[\"Oysters\",\"Hickory smoked ham\",\"Rocky Road\"],\"brewers_tips\":\"After primary fermentation is complete, rack off into a secondary fermeter and add the oak chips to replicate the authentic Islay barrel experience.\",\"contributed_by\":\"Sam Mason <samjbmason>\"},{\"id\":24,\"name\":\"The End Of History\",\"tagline\":\"The World's Strongest Beer.\",\"first_brewed\":\"06/2011\",\"description\":\"The End of History: The name derives from the famous work of philosopher Francis Fukuyama, this is to beer what democracy is to history. Complexity defined. Floral, grapefruit, caramel and cloves are intensified by boozy heat.\",\"image_url\":\"https://images.punkapi.com/v2/24.png\",\"abv\":55,\"ibu\":null,\"target_fg\":1000,\"target_og\":1112,\"ebc\":null,\"srm\":null,\"ph\":4.4,\"attenuation_level\":100,\"volume\":{\"value\":20,\"unit\":\"litres\"},\"boil_volume\":{\"value\":25,\"unit\":\"litres\"},\"method\":{\"mash_temp\":[{\"temp\":{\"value\":65,\"unit\":\"celsius\"},\"duration\":75}],\"fermentation\":{\"temp\":{\"value\":20,\"unit\":\"celsius\"}},\"twist\":\"Nettles: 25g at end, Juniper: 25g at end\"},\"ingredients\":{\"malt\":[{\"name\":\"Extra Pale\",\"amount\":{\"value\":12.5,\"unit\":\"kilograms\"}}],\"hops\":[{\"name\":\"Nelson Sauvin\",\"amount\":{\"value\":6.25,\"unit\":\"grams\"},\"add\":\"start\",\"attribute\":\"bitter\"},{\"name\":\"Centennial\",\"amount\":{\"value\":12.5,\"unit\":\"grams\"},\"add\":\"start\",\"attribute\":\"bitter\"},{\"name\":\"Nelson Sauvin\",\"amount\":{\"value\":12.5,\"unit\":\"grams\"},\"add\":\"end\",\"attribute\":\"flavour\"},{\"name\":\"Amarillo\",\"amount\":{\"value\":12.5,\"unit\":\"grams\"},\"add\":\"end\",\"attribute\":\"flavour\"},{\"name\":\"Centennial\",\"amount\":{\"value\":12.5,\"unit\":\"grams\"},\"add\":\"end\",\"attribute\":\"flavour\"}],\"yeast\":\"Wyeast 3522 - Belgian Ardennes™\"},\"food_pairing\":[\"Roasted wood pigeon with black pudding\",\"Pan seared venison fillet with juniper sauce\",\"Apricot coconut cake\"],\"brewers_tips\":\"You'll have to get this one all the way down to -70°C. Taxidermy is not optional.\",\"contributed_by\":\"Sam Mason <samjbmason>\"},{\"id\":25,\"name\":\"Bad Pixie\",\"tagline\":\"Spiced Wheat Beer.\",\"first_brewed\":\"10/2008\",\"description\":\"2008 Prototype beer, a 4.7% wheat ale with crushed juniper berries and citrus peel.\",\"image_url\":\"https://images.punkapi.com/v2/25.png\",\"abv\":4.7,\"ibu\":45,\"target_fg\":1010,\"target_og\":1047,\"ebc\":8,\"srm\":4,\"ph\":4.4,\"attenuation_level\":79,\"volume\":{\"value\":20,\"unit\":\"litres\"},\"boil_volume\":{\"value\":25,\"unit\":\"litres\"},\"method\":{\"mash_temp\":[{\"temp\":{\"value\":67,\"unit\":\"celsius\"},\"duration\":75}],\"fermentation\":{\"temp\":{\"value\":19,\"unit\":\"celsius\"}},\"twist\":\"Crushed juniper berries: 12.5g, Lemon peel: 18.8g\"},\"ingredients\":{\"malt\":[{\"name\":\"Wheat\",\"amount\":{\"value\":2.5,\"unit\":\"kilograms\"}},{\"name\":\"Extra Pale\",\"amount\":{\"value\":2.06,\"unit\":\"kilograms\"}}],\"hops\":[{\"name\":\"First Gold\",\"amount\":{\"value\":18.75,\"unit\":\"grams\"},\"add\":\"start\",\"attribute\":\"bitter\"},{\"name\":\"First Gold\",\"amount\":{\"value\":25,\"unit\":\"grams\"},\"add\":\"end\",\"attribute\":\"flavour\"},{\"name\":\"Sorachi Ace\",\"amount\":{\"value\":16.25,\"unit\":\"grams\"},\"add\":\"end\",\"attribute\":\"flavour\"}],\"yeast\":\"Wyeast 1056 - American Ale™\"},\"food_pairing\":[\"Poached sole fillet with capers\",\"Summer fruit salad\",\"Banana split\"],\"brewers_tips\":\"Make sure you have plenty of room in the fermenter. Beers containing wheat can often foam aggressively during fermentation.\",\"contributed_by\":\"Sam Mason <samjbmason>\"}]"
          ]
        }
      ]
    },
    {
      "cell_type": "markdown",
      "source": [
        "\n",
        "\n",
        "```\n",
        "response = requests.get('https://reqres.in/api/users?page=2&per_page=10')\n",
        "response.get(url,params= {'page': 2, 'per_page':10 })\n",
        "```\n",
        "\n",
        "\n",
        "\n",
        "위에 두개는 같은 요청입니다! 뒤에 파라미터들이 ?으로 , 파라미터가 여러개일 경우 &으로 연결됩니다!"
      ],
      "metadata": {
        "id": "r5BHq0Qx6-Xc"
      }
    },
    {
      "cell_type": "code",
      "source": [
        "import requests\n",
        "import json\n",
        "import time\n",
        "\n",
        "url = 'https://api.punkapi.com/v2/beers'\n",
        "headers = {'Content-Type': 'application/json'}\n",
        "# 파라미터로 인자 넘겨줄 수 있음!!\n",
        "# 아래 params 코드에 인자들을 공식문서를 확인하여 추가하시거나 바꿔주세요!!\n",
        "params= {'page': 1, 'per_page':10, 'abv_gt': 25 }\n",
        "\n",
        "response = requests.get(url, headers=headers,params=params)\n",
        "\n",
        "if response.status_code == 200:\n",
        "    result = response.json()\n",
        "    print('받아온 데이터:', result)\n",
        "else:\n",
        "    print('요청에 실패했습니다. 상태 코드:', response.status_code)"
      ],
      "metadata": {
        "colab": {
          "base_uri": "https://localhost:8080/"
        },
        "id": "QGXmfBAy3xWH",
        "outputId": "26a7b8a9-1247-4d25-e4f3-ed660b728329"
      },
      "execution_count": 4,
      "outputs": [
        {
          "output_type": "stream",
          "name": "stdout",
          "text": [
            "받아온 데이터: [{'id': 24, 'name': 'The End Of History', 'tagline': \"The World's Strongest Beer.\", 'first_brewed': '06/2011', 'description': 'The End of History: The name derives from the famous work of philosopher Francis Fukuyama, this is to beer what democracy is to history. Complexity defined. Floral, grapefruit, caramel and cloves are intensified by boozy heat.', 'image_url': 'https://images.punkapi.com/v2/24.png', 'abv': 55, 'ibu': None, 'target_fg': 1000, 'target_og': 1112, 'ebc': None, 'srm': None, 'ph': 4.4, 'attenuation_level': 100, 'volume': {'value': 20, 'unit': 'litres'}, 'boil_volume': {'value': 25, 'unit': 'litres'}, 'method': {'mash_temp': [{'temp': {'value': 65, 'unit': 'celsius'}, 'duration': 75}], 'fermentation': {'temp': {'value': 20, 'unit': 'celsius'}}, 'twist': 'Nettles: 25g at end, Juniper: 25g at end'}, 'ingredients': {'malt': [{'name': 'Extra Pale', 'amount': {'value': 12.5, 'unit': 'kilograms'}}], 'hops': [{'name': 'Nelson Sauvin', 'amount': {'value': 6.25, 'unit': 'grams'}, 'add': 'start', 'attribute': 'bitter'}, {'name': 'Centennial', 'amount': {'value': 12.5, 'unit': 'grams'}, 'add': 'start', 'attribute': 'bitter'}, {'name': 'Nelson Sauvin', 'amount': {'value': 12.5, 'unit': 'grams'}, 'add': 'end', 'attribute': 'flavour'}, {'name': 'Amarillo', 'amount': {'value': 12.5, 'unit': 'grams'}, 'add': 'end', 'attribute': 'flavour'}, {'name': 'Centennial', 'amount': {'value': 12.5, 'unit': 'grams'}, 'add': 'end', 'attribute': 'flavour'}], 'yeast': 'Wyeast 3522 - Belgian Ardennes™'}, 'food_pairing': ['Roasted wood pigeon with black pudding', 'Pan seared venison fillet with juniper sauce', 'Apricot coconut cake'], 'brewers_tips': \"You'll have to get this one all the way down to -70°C. Taxidermy is not optional.\", 'contributed_by': 'Sam Mason <samjbmason>'}, {'id': 137, 'name': 'Sink The Bismarck!', 'tagline': 'IPA For The Dedicated.', 'first_brewed': '12/2009', 'description': 'This is IPA amplified, the most evocative style of the craft beer resistance with the volume cranked off the scale. Kettle hopped, dry hopped then freeze hopped for a deep fruit, resinous and spicy aroma. A full on attack on your taste buds ensues as the incredibly smooth liquid delivers a crescendo of malt, sweet honey, hop oils and a torpedo of hop bitterness that lasts and lasts.', 'image_url': 'https://images.punkapi.com/v2/137.png', 'abv': 41, 'ibu': 1085, 'target_fg': 1016, 'target_og': 1085, 'ebc': 40, 'srm': 20, 'ph': 4.4, 'attenuation_level': 81.2, 'volume': {'value': 20, 'unit': 'litres'}, 'boil_volume': {'value': 25, 'unit': 'litres'}, 'method': {'mash_temp': [{'temp': {'value': 65, 'unit': 'celsius'}, 'duration': 75}], 'fermentation': {'temp': {'value': 21, 'unit': 'celsius'}}, 'twist': None}, 'ingredients': {'malt': [{'name': 'Extra Pale', 'amount': {'value': 7.4, 'unit': 'kilograms'}}, {'name': 'Caramalt', 'amount': {'value': 0.38, 'unit': 'kilograms'}}, {'name': 'Crystal 150', 'amount': {'value': 0.29, 'unit': 'kilograms'}}], 'hops': [{'name': 'Columbus Extract', 'amount': {'value': 30.8, 'unit': 'grams'}, 'add': 'start', 'attribute': 'bitter'}, {'name': 'Columbus', 'amount': {'value': 19.2, 'unit': 'grams'}, 'add': 'start', 'attribute': 'bitter'}, {'name': 'Columbus', 'amount': {'value': 19.2, 'unit': 'grams'}, 'add': 'middle', 'attribute': 'flavour'}, {'name': 'Centennial', 'amount': {'value': 19.2, 'unit': 'grams'}, 'add': 'middle', 'attribute': 'flavour'}, {'name': 'Simcoe', 'amount': {'value': 19.2, 'unit': 'grams'}, 'add': 'middle', 'attribute': 'flavour'}, {'name': 'Columbus', 'amount': {'value': 19.2, 'unit': 'grams'}, 'add': 'end', 'attribute': 'flavour'}, {'name': 'Centennial', 'amount': {'value': 19.2, 'unit': 'grams'}, 'add': 'end', 'attribute': 'flavour'}, {'name': 'Simcoe', 'amount': {'value': 19.2, 'unit': 'grams'}, 'add': 'end', 'attribute': 'flavour'}, {'name': 'Centennial', 'amount': {'value': 115.4, 'unit': 'grams'}, 'add': 'dry hop', 'attribute': 'aroma'}, {'name': 'Columbus', 'amount': {'value': 96.2, 'unit': 'grams'}, 'add': 'dry hop', 'attribute': 'aroma'}, {'name': 'Simcoe', 'amount': {'value': 96.2, 'unit': 'grams'}, 'add': 'dry hop', 'attribute': 'aroma'}, {'name': 'Amarillo', 'amount': {'value': 76.9, 'unit': 'grams'}, 'add': 'dry hop', 'attribute': 'aroma'}], 'yeast': 'Wyeast 1272 - American Ale II™'}, 'food_pairing': ['Charred apricot salad', 'Whole baked reblochon', 'Salted caramel crème brûlée'], 'brewers_tips': 'Some serious investment in equipment will be required here to get the beer down to -40°C in order to remove enough water. Steep the final beer with a handful of your favourite American hops for 12 hours before bottling.', 'contributed_by': 'Sam Mason <samjbmason>'}, {'id': 185, 'name': 'Tactical Nuclear Penguin', 'tagline': 'Uber Imperial Stout.', 'first_brewed': '09/2009', 'description': \"This beer is about pushing the boundaries, it is about taking innovation in beer to a whole new level. Dark and decadent, plum, treacle and roast coffee are amplified beyond any stout you've had before.\", 'image_url': 'https://images.punkapi.com/v2/185.png', 'abv': 32, 'ibu': 1157, 'target_fg': 1028, 'target_og': 1157, 'ebc': 250, 'srm': 127, 'ph': 4.4, 'attenuation_level': 82.2, 'volume': {'value': 20, 'unit': 'litres'}, 'boil_volume': {'value': 25, 'unit': 'litres'}, 'method': {'mash_temp': [{'temp': {'value': 65, 'unit': 'celsius'}, 'duration': None}], 'fermentation': {'temp': {'value': 21, 'unit': 'celsius'}}, 'twist': 'Cranberry: 25g at end, Jasmine: 25g at end, Muscovado sugar: 300g at start, Oak chips: 15g at FV'}, 'ingredients': {'malt': [{'name': 'Extra Pale', 'amount': {'value': 11.25, 'unit': 'kilograms'}}, {'name': 'Dark Crystal', 'amount': {'value': 1.75, 'unit': 'kilograms'}}, {'name': 'Chocolate', 'amount': {'value': 0.5, 'unit': 'kilograms'}}, {'name': 'Roasted Barley', 'amount': {'value': 0.5, 'unit': 'kilograms'}}], 'hops': [{'name': 'Chinook', 'amount': {'value': 37.5, 'unit': 'grams'}, 'add': 'start', 'attribute': 'bitter'}, {'name': 'Galena', 'amount': {'value': 37.5, 'unit': 'grams'}, 'add': 'start', 'attribute': 'bitter'}, {'name': 'Chinook', 'amount': {'value': 37.5, 'unit': 'grams'}, 'add': 'start', 'attribute': 'bitter'}, {'name': 'Galena', 'amount': {'value': 37.5, 'unit': 'grams'}, 'add': 'start', 'attribute': 'bitter'}, {'name': 'Galena', 'amount': {'value': 25, 'unit': 'grams'}, 'add': 'end', 'attribute': 'flavour'}, {'name': 'First Gold', 'amount': {'value': 25, 'unit': 'grams'}, 'add': 'end', 'attribute': 'flavour'}, {'name': 'Chinook', 'amount': {'value': 25, 'unit': 'grams'}, 'add': 'end', 'attribute': 'flavour'}], 'yeast': 'WLP099 - Super High Gravity Ale'}, 'food_pairing': ['Lobster thermidor', 'Pan fried Foie Gras', 'Vanilla bean white chocolate'], 'brewers_tips': 'This level of alcohol can be achieved using a domestic freezer. Use a container with a tap close to the bottom so you can run the un-frozen, concentrated beer from under the ice on top. You may have to do this three or four times.', 'contributed_by': 'Sam Mason <samjbmason>'}]\n"
          ]
        }
      ]
    },
    {
      "cell_type": "code",
      "source": [
        "import pandas as pd\n",
        "\n",
        "df = pd.DataFrame(result)\n",
        "df"
      ],
      "metadata": {
        "colab": {
          "base_uri": "https://localhost:8080/",
          "height": 427
        },
        "id": "ZXq2SrZT4UaO",
        "outputId": "f2d0bd88-24a9-4637-f564-93e8fac3de68"
      },
      "execution_count": 5,
      "outputs": [
        {
          "output_type": "execute_result",
          "data": {
            "text/plain": [
              "    id                      name                      tagline first_brewed  \\\n",
              "0   24        The End Of History  The World's Strongest Beer.      06/2011   \n",
              "1  137        Sink The Bismarck!       IPA For The Dedicated.      12/2009   \n",
              "2  185  Tactical Nuclear Penguin         Uber Imperial Stout.      09/2009   \n",
              "\n",
              "                                         description  \\\n",
              "0  The End of History: The name derives from the ...   \n",
              "1  This is IPA amplified, the most evocative styl...   \n",
              "2  This beer is about pushing the boundaries, it ...   \n",
              "\n",
              "                               image_url  abv     ibu  target_fg  target_og  \\\n",
              "0   https://images.punkapi.com/v2/24.png   55     NaN       1000       1112   \n",
              "1  https://images.punkapi.com/v2/137.png   41  1085.0       1016       1085   \n",
              "2  https://images.punkapi.com/v2/185.png   32  1157.0       1028       1157   \n",
              "\n",
              "   ...    srm   ph  attenuation_level                           volume  \\\n",
              "0  ...    NaN  4.4              100.0  {'value': 20, 'unit': 'litres'}   \n",
              "1  ...   20.0  4.4               81.2  {'value': 20, 'unit': 'litres'}   \n",
              "2  ...  127.0  4.4               82.2  {'value': 20, 'unit': 'litres'}   \n",
              "\n",
              "                       boil_volume  \\\n",
              "0  {'value': 25, 'unit': 'litres'}   \n",
              "1  {'value': 25, 'unit': 'litres'}   \n",
              "2  {'value': 25, 'unit': 'litres'}   \n",
              "\n",
              "                                              method  \\\n",
              "0  {'mash_temp': [{'temp': {'value': 65, 'unit': ...   \n",
              "1  {'mash_temp': [{'temp': {'value': 65, 'unit': ...   \n",
              "2  {'mash_temp': [{'temp': {'value': 65, 'unit': ...   \n",
              "\n",
              "                                         ingredients  \\\n",
              "0  {'malt': [{'name': 'Extra Pale', 'amount': {'v...   \n",
              "1  {'malt': [{'name': 'Extra Pale', 'amount': {'v...   \n",
              "2  {'malt': [{'name': 'Extra Pale', 'amount': {'v...   \n",
              "\n",
              "                                        food_pairing  \\\n",
              "0  [Roasted wood pigeon with black pudding, Pan s...   \n",
              "1  [Charred apricot salad, Whole baked reblochon,...   \n",
              "2  [Lobster thermidor, Pan fried Foie Gras, Vanil...   \n",
              "\n",
              "                                        brewers_tips          contributed_by  \n",
              "0  You'll have to get this one all the way down t...  Sam Mason <samjbmason>  \n",
              "1  Some serious investment in equipment will be r...  Sam Mason <samjbmason>  \n",
              "2  This level of alcohol can be achieved using a ...  Sam Mason <samjbmason>  \n",
              "\n",
              "[3 rows x 21 columns]"
            ],
            "text/html": [
              "\n",
              "\n",
              "  <div id=\"df-8bf05b7b-1db5-4a5a-bb37-b250a45adcaf\">\n",
              "    <div class=\"colab-df-container\">\n",
              "      <div>\n",
              "<style scoped>\n",
              "    .dataframe tbody tr th:only-of-type {\n",
              "        vertical-align: middle;\n",
              "    }\n",
              "\n",
              "    .dataframe tbody tr th {\n",
              "        vertical-align: top;\n",
              "    }\n",
              "\n",
              "    .dataframe thead th {\n",
              "        text-align: right;\n",
              "    }\n",
              "</style>\n",
              "<table border=\"1\" class=\"dataframe\">\n",
              "  <thead>\n",
              "    <tr style=\"text-align: right;\">\n",
              "      <th></th>\n",
              "      <th>id</th>\n",
              "      <th>name</th>\n",
              "      <th>tagline</th>\n",
              "      <th>first_brewed</th>\n",
              "      <th>description</th>\n",
              "      <th>image_url</th>\n",
              "      <th>abv</th>\n",
              "      <th>ibu</th>\n",
              "      <th>target_fg</th>\n",
              "      <th>target_og</th>\n",
              "      <th>...</th>\n",
              "      <th>srm</th>\n",
              "      <th>ph</th>\n",
              "      <th>attenuation_level</th>\n",
              "      <th>volume</th>\n",
              "      <th>boil_volume</th>\n",
              "      <th>method</th>\n",
              "      <th>ingredients</th>\n",
              "      <th>food_pairing</th>\n",
              "      <th>brewers_tips</th>\n",
              "      <th>contributed_by</th>\n",
              "    </tr>\n",
              "  </thead>\n",
              "  <tbody>\n",
              "    <tr>\n",
              "      <th>0</th>\n",
              "      <td>24</td>\n",
              "      <td>The End Of History</td>\n",
              "      <td>The World's Strongest Beer.</td>\n",
              "      <td>06/2011</td>\n",
              "      <td>The End of History: The name derives from the ...</td>\n",
              "      <td>https://images.punkapi.com/v2/24.png</td>\n",
              "      <td>55</td>\n",
              "      <td>NaN</td>\n",
              "      <td>1000</td>\n",
              "      <td>1112</td>\n",
              "      <td>...</td>\n",
              "      <td>NaN</td>\n",
              "      <td>4.4</td>\n",
              "      <td>100.0</td>\n",
              "      <td>{'value': 20, 'unit': 'litres'}</td>\n",
              "      <td>{'value': 25, 'unit': 'litres'}</td>\n",
              "      <td>{'mash_temp': [{'temp': {'value': 65, 'unit': ...</td>\n",
              "      <td>{'malt': [{'name': 'Extra Pale', 'amount': {'v...</td>\n",
              "      <td>[Roasted wood pigeon with black pudding, Pan s...</td>\n",
              "      <td>You'll have to get this one all the way down t...</td>\n",
              "      <td>Sam Mason &lt;samjbmason&gt;</td>\n",
              "    </tr>\n",
              "    <tr>\n",
              "      <th>1</th>\n",
              "      <td>137</td>\n",
              "      <td>Sink The Bismarck!</td>\n",
              "      <td>IPA For The Dedicated.</td>\n",
              "      <td>12/2009</td>\n",
              "      <td>This is IPA amplified, the most evocative styl...</td>\n",
              "      <td>https://images.punkapi.com/v2/137.png</td>\n",
              "      <td>41</td>\n",
              "      <td>1085.0</td>\n",
              "      <td>1016</td>\n",
              "      <td>1085</td>\n",
              "      <td>...</td>\n",
              "      <td>20.0</td>\n",
              "      <td>4.4</td>\n",
              "      <td>81.2</td>\n",
              "      <td>{'value': 20, 'unit': 'litres'}</td>\n",
              "      <td>{'value': 25, 'unit': 'litres'}</td>\n",
              "      <td>{'mash_temp': [{'temp': {'value': 65, 'unit': ...</td>\n",
              "      <td>{'malt': [{'name': 'Extra Pale', 'amount': {'v...</td>\n",
              "      <td>[Charred apricot salad, Whole baked reblochon,...</td>\n",
              "      <td>Some serious investment in equipment will be r...</td>\n",
              "      <td>Sam Mason &lt;samjbmason&gt;</td>\n",
              "    </tr>\n",
              "    <tr>\n",
              "      <th>2</th>\n",
              "      <td>185</td>\n",
              "      <td>Tactical Nuclear Penguin</td>\n",
              "      <td>Uber Imperial Stout.</td>\n",
              "      <td>09/2009</td>\n",
              "      <td>This beer is about pushing the boundaries, it ...</td>\n",
              "      <td>https://images.punkapi.com/v2/185.png</td>\n",
              "      <td>32</td>\n",
              "      <td>1157.0</td>\n",
              "      <td>1028</td>\n",
              "      <td>1157</td>\n",
              "      <td>...</td>\n",
              "      <td>127.0</td>\n",
              "      <td>4.4</td>\n",
              "      <td>82.2</td>\n",
              "      <td>{'value': 20, 'unit': 'litres'}</td>\n",
              "      <td>{'value': 25, 'unit': 'litres'}</td>\n",
              "      <td>{'mash_temp': [{'temp': {'value': 65, 'unit': ...</td>\n",
              "      <td>{'malt': [{'name': 'Extra Pale', 'amount': {'v...</td>\n",
              "      <td>[Lobster thermidor, Pan fried Foie Gras, Vanil...</td>\n",
              "      <td>This level of alcohol can be achieved using a ...</td>\n",
              "      <td>Sam Mason &lt;samjbmason&gt;</td>\n",
              "    </tr>\n",
              "  </tbody>\n",
              "</table>\n",
              "<p>3 rows × 21 columns</p>\n",
              "</div>\n",
              "      <button class=\"colab-df-convert\" onclick=\"convertToInteractive('df-8bf05b7b-1db5-4a5a-bb37-b250a45adcaf')\"\n",
              "              title=\"Convert this dataframe to an interactive table.\"\n",
              "              style=\"display:none;\">\n",
              "\n",
              "  <svg xmlns=\"http://www.w3.org/2000/svg\" height=\"24px\"viewBox=\"0 0 24 24\"\n",
              "       width=\"24px\">\n",
              "    <path d=\"M0 0h24v24H0V0z\" fill=\"none\"/>\n",
              "    <path d=\"M18.56 5.44l.94 2.06.94-2.06 2.06-.94-2.06-.94-.94-2.06-.94 2.06-2.06.94zm-11 1L8.5 8.5l.94-2.06 2.06-.94-2.06-.94L8.5 2.5l-.94 2.06-2.06.94zm10 10l.94 2.06.94-2.06 2.06-.94-2.06-.94-.94-2.06-.94 2.06-2.06.94z\"/><path d=\"M17.41 7.96l-1.37-1.37c-.4-.4-.92-.59-1.43-.59-.52 0-1.04.2-1.43.59L10.3 9.45l-7.72 7.72c-.78.78-.78 2.05 0 2.83L4 21.41c.39.39.9.59 1.41.59.51 0 1.02-.2 1.41-.59l7.78-7.78 2.81-2.81c.8-.78.8-2.07 0-2.86zM5.41 20L4 18.59l7.72-7.72 1.47 1.35L5.41 20z\"/>\n",
              "  </svg>\n",
              "      </button>\n",
              "\n",
              "\n",
              "\n",
              "    <div id=\"df-d7221d5b-4384-46da-ac07-69d719ea10e3\">\n",
              "      <button class=\"colab-df-quickchart\" onclick=\"quickchart('df-d7221d5b-4384-46da-ac07-69d719ea10e3')\"\n",
              "              title=\"Suggest charts.\"\n",
              "              style=\"display:none;\">\n",
              "\n",
              "<svg xmlns=\"http://www.w3.org/2000/svg\" height=\"24px\"viewBox=\"0 0 24 24\"\n",
              "     width=\"24px\">\n",
              "    <g>\n",
              "        <path d=\"M19 3H5c-1.1 0-2 .9-2 2v14c0 1.1.9 2 2 2h14c1.1 0 2-.9 2-2V5c0-1.1-.9-2-2-2zM9 17H7v-7h2v7zm4 0h-2V7h2v10zm4 0h-2v-4h2v4z\"/>\n",
              "    </g>\n",
              "</svg>\n",
              "      </button>\n",
              "    </div>\n",
              "\n",
              "<style>\n",
              "  .colab-df-quickchart {\n",
              "    background-color: #E8F0FE;\n",
              "    border: none;\n",
              "    border-radius: 50%;\n",
              "    cursor: pointer;\n",
              "    display: none;\n",
              "    fill: #1967D2;\n",
              "    height: 32px;\n",
              "    padding: 0 0 0 0;\n",
              "    width: 32px;\n",
              "  }\n",
              "\n",
              "  .colab-df-quickchart:hover {\n",
              "    background-color: #E2EBFA;\n",
              "    box-shadow: 0px 1px 2px rgba(60, 64, 67, 0.3), 0px 1px 3px 1px rgba(60, 64, 67, 0.15);\n",
              "    fill: #174EA6;\n",
              "  }\n",
              "\n",
              "  [theme=dark] .colab-df-quickchart {\n",
              "    background-color: #3B4455;\n",
              "    fill: #D2E3FC;\n",
              "  }\n",
              "\n",
              "  [theme=dark] .colab-df-quickchart:hover {\n",
              "    background-color: #434B5C;\n",
              "    box-shadow: 0px 1px 3px 1px rgba(0, 0, 0, 0.15);\n",
              "    filter: drop-shadow(0px 1px 2px rgba(0, 0, 0, 0.3));\n",
              "    fill: #FFFFFF;\n",
              "  }\n",
              "</style>\n",
              "\n",
              "    <script>\n",
              "      async function quickchart(key) {\n",
              "        const containerElement = document.querySelector('#' + key);\n",
              "        const charts = await google.colab.kernel.invokeFunction(\n",
              "            'suggestCharts', [key], {});\n",
              "      }\n",
              "    </script>\n",
              "\n",
              "      <script>\n",
              "\n",
              "function displayQuickchartButton(domScope) {\n",
              "  let quickchartButtonEl =\n",
              "    domScope.querySelector('#df-d7221d5b-4384-46da-ac07-69d719ea10e3 button.colab-df-quickchart');\n",
              "  quickchartButtonEl.style.display =\n",
              "    google.colab.kernel.accessAllowed ? 'block' : 'none';\n",
              "}\n",
              "\n",
              "        displayQuickchartButton(document);\n",
              "      </script>\n",
              "      <style>\n",
              "    .colab-df-container {\n",
              "      display:flex;\n",
              "      flex-wrap:wrap;\n",
              "      gap: 12px;\n",
              "    }\n",
              "\n",
              "    .colab-df-convert {\n",
              "      background-color: #E8F0FE;\n",
              "      border: none;\n",
              "      border-radius: 50%;\n",
              "      cursor: pointer;\n",
              "      display: none;\n",
              "      fill: #1967D2;\n",
              "      height: 32px;\n",
              "      padding: 0 0 0 0;\n",
              "      width: 32px;\n",
              "    }\n",
              "\n",
              "    .colab-df-convert:hover {\n",
              "      background-color: #E2EBFA;\n",
              "      box-shadow: 0px 1px 2px rgba(60, 64, 67, 0.3), 0px 1px 3px 1px rgba(60, 64, 67, 0.15);\n",
              "      fill: #174EA6;\n",
              "    }\n",
              "\n",
              "    [theme=dark] .colab-df-convert {\n",
              "      background-color: #3B4455;\n",
              "      fill: #D2E3FC;\n",
              "    }\n",
              "\n",
              "    [theme=dark] .colab-df-convert:hover {\n",
              "      background-color: #434B5C;\n",
              "      box-shadow: 0px 1px 3px 1px rgba(0, 0, 0, 0.15);\n",
              "      filter: drop-shadow(0px 1px 2px rgba(0, 0, 0, 0.3));\n",
              "      fill: #FFFFFF;\n",
              "    }\n",
              "  </style>\n",
              "\n",
              "      <script>\n",
              "        const buttonEl =\n",
              "          document.querySelector('#df-8bf05b7b-1db5-4a5a-bb37-b250a45adcaf button.colab-df-convert');\n",
              "        buttonEl.style.display =\n",
              "          google.colab.kernel.accessAllowed ? 'block' : 'none';\n",
              "\n",
              "        async function convertToInteractive(key) {\n",
              "          const element = document.querySelector('#df-8bf05b7b-1db5-4a5a-bb37-b250a45adcaf');\n",
              "          const dataTable =\n",
              "            await google.colab.kernel.invokeFunction('convertToInteractive',\n",
              "                                                     [key], {});\n",
              "          if (!dataTable) return;\n",
              "\n",
              "          const docLinkHtml = 'Like what you see? Visit the ' +\n",
              "            '<a target=\"_blank\" href=https://colab.research.google.com/notebooks/data_table.ipynb>data table notebook</a>'\n",
              "            + ' to learn more about interactive tables.';\n",
              "          element.innerHTML = '';\n",
              "          dataTable['output_type'] = 'display_data';\n",
              "          await google.colab.output.renderOutput(dataTable, element);\n",
              "          const docLink = document.createElement('div');\n",
              "          docLink.innerHTML = docLinkHtml;\n",
              "          element.appendChild(docLink);\n",
              "        }\n",
              "      </script>\n",
              "    </div>\n",
              "  </div>\n"
            ]
          },
          "metadata": {},
          "execution_count": 5
        }
      ]
    },
    {
      "cell_type": "markdown",
      "source": [
        "## 과제 2 컨퍼런스 혹은 신입기수 세션에서 데이터를 끌어올 수 있는 API를 찾아보시고 찾기!\n",
        "\n",
        "\n",
        "\n",
        "- response 응답의 구조를 파악하여 어떤 열을 어떻게 활용할 수 있을지 적어보세요!\n",
        "\n",
        "- 찾은 API 명세서 -> 활용방안을 적어주시면 됩니다!"
      ],
      "metadata": {
        "id": "W3ZY-Oqrvy9d"
      }
    },
    {
      "cell_type": "markdown",
      "source": [
        "추천 :\n",
        "\n",
        "요즘은 다른 거를 가져다가 쓰는 게 또 능력이죠\n",
        "\n",
        "### <https://www.reddit.com/dev/api/>\n",
        "\n",
        "### <https://developers.kakao.com/>\n",
        "\n",
        "### <https://developers.naver.com/main/>\n",
        "\n",
        "### <https://platform.openai.com/docs/introduction>"
      ],
      "metadata": {
        "id": "trCAp5yz7k0K"
      }
    },
    {
      "cell_type": "markdown",
      "source": [
        "# 아래 작성해주시면 됩니다!!"
      ],
      "metadata": {
        "id": "SjuTvWea8M1x"
      }
    },
    {
      "cell_type": "markdown",
      "source": [
        "### 사용할 API : https://developers.google.com/maps/documentation\n",
        "\n",
        "\n",
        "### 사용할 기능또는 api 응답에서 제공되는 변수 :Places API를 사용한다.places api는 response로 기기위치 기반의 장소 목록, 장소에 대한 사용자 리뷰, 장소 관련 사진, 장소 자동완성, 쿼리 예측을 반환한다.\n",
        "\n",
        "### 활용 방안 : 여행지에서 사람들이 현재 위치하고 있는 경로를 파악(Address_components)하여 사용자의 특성과 비슷한 사람들의 선호(rating), close,open 정보, 길 찾기 (route) 정보를 종합하여 사용자가 가장 방문하고 싶어할 것으로 예상되는 곳을 추천한다.photo reference 중 기간 기준과 정확도 기준을 적절히 선정하여 사용자에게 도움이 될 만한 사진을 함께 보여준다."
      ],
      "metadata": {
        "id": "W4F7Uh2b8Ed4"
      }
    },
    {
      "cell_type": "markdown",
      "source": [
        "# 출처\n",
        "\n",
        "- 내머리\n",
        "- 챗지피티"
      ],
      "metadata": {
        "id": "uVitp-tulOb9"
      }
    }
  ]
}